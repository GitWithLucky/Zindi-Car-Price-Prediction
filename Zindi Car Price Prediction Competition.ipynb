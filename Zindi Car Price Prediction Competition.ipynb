{
 "cells": [
  {
   "cell_type": "code",
   "execution_count": 1,
   "id": "f55a8b70",
   "metadata": {},
   "outputs": [],
   "source": [
    "import numpy as np\n",
    "import pandas as pd\n",
    "\n",
    "import warnings\n",
    "warnings.filterwarnings('ignore')"
   ]
  },
  {
   "cell_type": "code",
   "execution_count": 2,
   "id": "3219c329",
   "metadata": {},
   "outputs": [],
   "source": [
    "df = pd.read_csv('Train.csv')\n",
    "df_test = pd.read_csv('Test.csv')\n",
    "df_submission = pd.read_csv('SampleSubmission.csv')"
   ]
  },
  {
   "cell_type": "markdown",
   "id": "2fb5aa89",
   "metadata": {},
   "source": [
    "# Data Wrangling for the training data"
   ]
  },
  {
   "cell_type": "code",
   "execution_count": 3,
   "id": "52652814",
   "metadata": {},
   "outputs": [
    {
     "data": {
      "text/html": [
       "<div>\n",
       "<style scoped>\n",
       "    .dataframe tbody tr th:only-of-type {\n",
       "        vertical-align: middle;\n",
       "    }\n",
       "\n",
       "    .dataframe tbody tr th {\n",
       "        vertical-align: top;\n",
       "    }\n",
       "\n",
       "    .dataframe thead th {\n",
       "        text-align: right;\n",
       "    }\n",
       "</style>\n",
       "<table border=\"1\" class=\"dataframe\">\n",
       "  <thead>\n",
       "    <tr style=\"text-align: right;\">\n",
       "      <th></th>\n",
       "      <th>VehicleID</th>\n",
       "      <th>Location</th>\n",
       "      <th>Maker</th>\n",
       "      <th>Model</th>\n",
       "      <th>Year</th>\n",
       "      <th>Colour</th>\n",
       "      <th>Amount (Million Naira)</th>\n",
       "      <th>Type</th>\n",
       "      <th>Distance</th>\n",
       "    </tr>\n",
       "  </thead>\n",
       "  <tbody>\n",
       "    <tr>\n",
       "      <th>0</th>\n",
       "      <td>VHL12546</td>\n",
       "      <td>Abuja</td>\n",
       "      <td>Honda</td>\n",
       "      <td>Accord Coupe EX V-6</td>\n",
       "      <td>2,011</td>\n",
       "      <td>Silver</td>\n",
       "      <td>2.2</td>\n",
       "      <td>Nigerian Used</td>\n",
       "      <td>NaN</td>\n",
       "    </tr>\n",
       "    <tr>\n",
       "      <th>1</th>\n",
       "      <td>VHL18827</td>\n",
       "      <td>Ibadan</td>\n",
       "      <td>Hyundai</td>\n",
       "      <td>Sonata</td>\n",
       "      <td>2,012</td>\n",
       "      <td>Silver</td>\n",
       "      <td>3.5</td>\n",
       "      <td>Nigerian Used</td>\n",
       "      <td>125,000</td>\n",
       "    </tr>\n",
       "    <tr>\n",
       "      <th>2</th>\n",
       "      <td>VHL19499</td>\n",
       "      <td>Lagos</td>\n",
       "      <td>Lexus</td>\n",
       "      <td>RX 350</td>\n",
       "      <td>2,010</td>\n",
       "      <td>Red</td>\n",
       "      <td>9.2</td>\n",
       "      <td>Foreign Used</td>\n",
       "      <td>110,852</td>\n",
       "    </tr>\n",
       "    <tr>\n",
       "      <th>3</th>\n",
       "      <td>VHL17991</td>\n",
       "      <td>Abuja</td>\n",
       "      <td>Mercedes-Benz</td>\n",
       "      <td>GLE-Class</td>\n",
       "      <td>2,017</td>\n",
       "      <td>Blue</td>\n",
       "      <td>22.8</td>\n",
       "      <td>Foreign Used</td>\n",
       "      <td>30,000</td>\n",
       "    </tr>\n",
       "    <tr>\n",
       "      <th>4</th>\n",
       "      <td>VHL12170</td>\n",
       "      <td>Ibadan</td>\n",
       "      <td>Toyota</td>\n",
       "      <td>Highlander</td>\n",
       "      <td>2,002</td>\n",
       "      <td>Red</td>\n",
       "      <td>2.6</td>\n",
       "      <td>Nigerian Used</td>\n",
       "      <td>125,206</td>\n",
       "    </tr>\n",
       "  </tbody>\n",
       "</table>\n",
       "</div>"
      ],
      "text/plain": [
       "  VehicleID Location          Maker                Model   Year  Colour  \\\n",
       "0  VHL12546    Abuja          Honda  Accord Coupe EX V-6  2,011  Silver   \n",
       "1  VHL18827   Ibadan        Hyundai               Sonata  2,012  Silver   \n",
       "2  VHL19499    Lagos          Lexus               RX 350  2,010     Red   \n",
       "3  VHL17991    Abuja  Mercedes-Benz            GLE-Class  2,017    Blue   \n",
       "4  VHL12170   Ibadan         Toyota           Highlander  2,002     Red   \n",
       "\n",
       "   Amount (Million Naira)           Type Distance  \n",
       "0                     2.2  Nigerian Used      NaN  \n",
       "1                     3.5  Nigerian Used  125,000  \n",
       "2                     9.2   Foreign Used  110,852  \n",
       "3                    22.8   Foreign Used   30,000  \n",
       "4                     2.6  Nigerian Used  125,206  "
      ]
     },
     "execution_count": 3,
     "metadata": {},
     "output_type": "execute_result"
    }
   ],
   "source": [
    "df.head()"
   ]
  },
  {
   "cell_type": "code",
   "execution_count": 4,
   "id": "5cb4b078",
   "metadata": {},
   "outputs": [
    {
     "data": {
      "text/plain": [
       "(7205, 9)"
      ]
     },
     "execution_count": 4,
     "metadata": {},
     "output_type": "execute_result"
    }
   ],
   "source": [
    "df.shape"
   ]
  },
  {
   "cell_type": "code",
   "execution_count": 5,
   "id": "08b6294a",
   "metadata": {},
   "outputs": [
    {
     "name": "stdout",
     "output_type": "stream",
     "text": [
      "<class 'pandas.core.frame.DataFrame'>\n",
      "RangeIndex: 7205 entries, 0 to 7204\n",
      "Data columns (total 9 columns):\n",
      " #   Column                  Non-Null Count  Dtype  \n",
      "---  ------                  --------------  -----  \n",
      " 0   VehicleID               7205 non-null   object \n",
      " 1   Location                7205 non-null   object \n",
      " 2   Maker                   7205 non-null   object \n",
      " 3   Model                   7205 non-null   object \n",
      " 4   Year                    7184 non-null   object \n",
      " 5   Colour                  7205 non-null   object \n",
      " 6   Amount (Million Naira)  7188 non-null   float64\n",
      " 7   Type                    7008 non-null   object \n",
      " 8   Distance                4845 non-null   object \n",
      "dtypes: float64(1), object(8)\n",
      "memory usage: 506.7+ KB\n"
     ]
    }
   ],
   "source": [
    "df.info()"
   ]
  },
  {
   "cell_type": "code",
   "execution_count": 6,
   "id": "92930c7e",
   "metadata": {},
   "outputs": [
    {
     "data": {
      "text/plain": [
       "VehicleID                    0\n",
       "Location                     0\n",
       "Maker                        0\n",
       "Model                        0\n",
       "Year                        21\n",
       "Colour                       0\n",
       "Amount (Million Naira)      17\n",
       "Type                       197\n",
       "Distance                  2360\n",
       "dtype: int64"
      ]
     },
     "execution_count": 6,
     "metadata": {},
     "output_type": "execute_result"
    }
   ],
   "source": [
    "df.isnull().sum()"
   ]
  },
  {
   "cell_type": "code",
   "execution_count": 7,
   "id": "3b469f9c",
   "metadata": {},
   "outputs": [
    {
     "data": {
      "text/plain": [
       "0"
      ]
     },
     "execution_count": 7,
     "metadata": {},
     "output_type": "execute_result"
    }
   ],
   "source": [
    "df.duplicated().sum()"
   ]
  },
  {
   "cell_type": "code",
   "execution_count": 8,
   "id": "d3f4c7da",
   "metadata": {},
   "outputs": [],
   "source": [
    "#The Distance feature are strings wih commas.\n",
    "#Therefore,we remove the commas and convert to float type\n",
    "\n",
    "df['Distance'] = df['Distance'].str.replace(',','').astype(float)"
   ]
  },
  {
   "cell_type": "code",
   "execution_count": 9,
   "id": "4d63df5c",
   "metadata": {},
   "outputs": [],
   "source": [
    "#There are many null values in the Distance column.\n",
    "#We group our dataframe by the Year column and take the mean distances and fill NaN values\n",
    "\n",
    "df['Distance'] = df['Distance'].fillna(df.groupby('Year')['Distance'].transform('mean'))"
   ]
  },
  {
   "cell_type": "code",
   "execution_count": 10,
   "id": "cad4f039",
   "metadata": {},
   "outputs": [],
   "source": [
    "import matplotlib.pyplot as plt\n",
    "import seaborn as sns\n",
    "\n",
    "\n",
    "%matplotlib inline"
   ]
  },
  {
   "cell_type": "code",
   "execution_count": 11,
   "id": "cd9f4feb",
   "metadata": {},
   "outputs": [
    {
     "data": {
      "image/png": "[encoded data removed]",
      "text/plain": [
       "<Figure size 432x288 with 1 Axes>"
      ]
     },
     "metadata": {
      "needs_background": "light"
     },
     "output_type": "display_data"
    }
   ],
   "source": [
    "plt.hist(df['Distance'],bins=100);\n",
    "plt.ylabel('COUNT')\n",
    "plt.xlabel('DISTANCE')\n",
    "plt.title('DISTRIBUTION OF DISTANCE')\n",
    "plt.tight_layout()"
   ]
  },
  {
   "cell_type": "code",
   "execution_count": 12,
   "id": "099a2830",
   "metadata": {},
   "outputs": [
    {
     "data": {
      "text/plain": [
       "<AxesSubplot:xlabel='Distance'>"
      ]
     },
     "execution_count": 12,
     "metadata": {},
     "output_type": "execute_result"
    },
    {
     "data": {
      "image/png": "[encoded data removed]",
      "text/plain": [
       "<Figure size 432x288 with 1 Axes>"
      ]
     },
     "metadata": {
      "needs_background": "light"
     },
     "output_type": "display_data"
    }
   ],
   "source": [
    "#We observe that our Distance data is distributed between the 0 and 100,000 excluding outliers.\n",
    "#So we check for outliers with boxplots.\n",
    "\n",
    "\n",
    "sns.boxplot(x='Distance',data=df)"
   ]
  },
  {
   "cell_type": "code",
   "execution_count": 13,
   "id": "8d22f41a",
   "metadata": {},
   "outputs": [],
   "source": [
    "#We remove the outliers by taking the 98th percentile of our dataframe and dropping the rest.\n",
    "\n",
    "low, high = df['Distance'].quantile([0.0,0.99])\n",
    "df = df[df['Distance'].between(low, high)]"
   ]
  },
  {
   "cell_type": "code",
   "execution_count": 14,
   "id": "58de2d64",
   "metadata": {},
   "outputs": [
    {
     "data": {
      "image/png": "[encoded data removed]",
      "text/plain": [
       "<Figure size 432x288 with 1 Axes>"
      ]
     },
     "metadata": {
      "needs_background": "light"
     },
     "output_type": "display_data"
    }
   ],
   "source": [
    "plt.hist(df['Distance'],bins=100);"
   ]
  },
  {
   "cell_type": "code",
   "execution_count": 15,
   "id": "b8677fb9",
   "metadata": {},
   "outputs": [
    {
     "data": {
      "text/plain": [
       "<AxesSubplot:xlabel='Distance'>"
      ]
     },
     "execution_count": 15,
     "metadata": {},
     "output_type": "execute_result"
    },
    {
     "data": {
      "image/png": "[encoded data removed]",
      "text/plain": [
       "<Figure size 432x288 with 1 Axes>"
      ]
     },
     "metadata": {
      "needs_background": "light"
     },
     "output_type": "display_data"
    }
   ],
   "source": [
    "sns.boxplot(x='Distance',data=df)"
   ]
  },
  {
   "cell_type": "code",
   "execution_count": 16,
   "id": "5a89b4b9",
   "metadata": {},
   "outputs": [],
   "source": [
    "#We write a function to fill NaN values in the Type column according to their distances in each row \n",
    "\n",
    "\n",
    "def cartype(cols):\n",
    "    Type = cols[0]\n",
    "    Distance = cols[1]\n",
    "    \n",
    "    if pd.isnull(Type):\n",
    "        if Distance < 5000:\n",
    "            return 'Brand New'\n",
    "        elif Distance < 1_000_000:\n",
    "            return 'Nigerian Used'\n",
    "        else:\n",
    "            return 'Foreign Used'\n",
    "    else:\n",
    "        return Type"
   ]
  },
  {
   "cell_type": "code",
   "execution_count": 17,
   "id": "5bd0e051",
   "metadata": {},
   "outputs": [],
   "source": [
    "df['Type'] = df[['Type','Distance']].apply(cartype,axis=1)"
   ]
  },
  {
   "cell_type": "code",
   "execution_count": 18,
   "id": "3185128e",
   "metadata": {},
   "outputs": [
    {
     "data": {
      "text/plain": [
       "(7126, 9)"
      ]
     },
     "execution_count": 18,
     "metadata": {},
     "output_type": "execute_result"
    }
   ],
   "source": [
    "df.shape"
   ]
  },
  {
   "cell_type": "code",
   "execution_count": 19,
   "id": "ad1c8031",
   "metadata": {},
   "outputs": [
    {
     "data": {
      "text/plain": [
       "55"
      ]
     },
     "execution_count": 19,
     "metadata": {},
     "output_type": "execute_result"
    }
   ],
   "source": [
    "df['Maker'].nunique()"
   ]
  },
  {
   "cell_type": "code",
   "execution_count": 20,
   "id": "39f4554b",
   "metadata": {},
   "outputs": [],
   "source": [
    "makers = [maker for maker in df.Maker.value_counts().sort_values(ascending=False).index]\n",
    "\n",
    "\n",
    "for maker in makers:\n",
    "    df[maker] = np.where(df['Maker'] == maker,1,0)"
   ]
  },
  {
   "cell_type": "code",
   "execution_count": 21,
   "id": "8753fe70",
   "metadata": {},
   "outputs": [
    {
     "data": {
      "text/plain": [
       "1213"
      ]
     },
     "execution_count": 21,
     "metadata": {},
     "output_type": "execute_result"
    }
   ],
   "source": [
    "df['Model'].nunique()"
   ]
  },
  {
   "cell_type": "code",
   "execution_count": 22,
   "id": "48a82c50",
   "metadata": {},
   "outputs": [],
   "source": [
    "models = [model for model in df.Model.value_counts().sort_values(ascending=False).index]\n",
    "\n",
    "\n",
    "for model in models:\n",
    "    df[model] = np.where(df['Model'] == model,1,0)"
   ]
  },
  {
   "cell_type": "code",
   "execution_count": 23,
   "id": "4f0052cd",
   "metadata": {},
   "outputs": [
    {
     "data": {
      "text/plain": [
       "21"
      ]
     },
     "execution_count": 23,
     "metadata": {},
     "output_type": "execute_result"
    }
   ],
   "source": [
    "df['Colour'].nunique()"
   ]
  },
  {
   "cell_type": "code",
   "execution_count": 24,
   "id": "6770ef26",
   "metadata": {},
   "outputs": [],
   "source": [
    "colours = [colour for colour in df.Colour.value_counts().sort_values(ascending=False).index]\n",
    "\n",
    "\n",
    "for colour in colours:\n",
    "    df[colour] = np.where(df['Colour'] == colour,1,0)"
   ]
  },
  {
   "cell_type": "code",
   "execution_count": 25,
   "id": "7c5f4b0b",
   "metadata": {},
   "outputs": [
    {
     "data": {
      "text/plain": [
       "3"
      ]
     },
     "execution_count": 25,
     "metadata": {},
     "output_type": "execute_result"
    }
   ],
   "source": [
    "df['Location'].nunique()"
   ]
  },
  {
   "cell_type": "code",
   "execution_count": 26,
   "id": "67c4aded",
   "metadata": {},
   "outputs": [],
   "source": [
    "#We substitute the categorical columns with numerical columns by getting dummy variables off of the categorical features\n",
    "locations = [location for location in df.Location.value_counts().sort_values(ascending=False).index]\n",
    "\n",
    "\n",
    "for location in locations:\n",
    "    df[location] = np.where(df['Location'] == location,1,0)"
   ]
  },
  {
   "cell_type": "code",
   "execution_count": 27,
   "id": "4dd0186a",
   "metadata": {},
   "outputs": [],
   "source": [
    "#We drop the categorical columns\n",
    "\n",
    "df.drop(columns=['Location','Maker','Colour','Model'],inplace=True)"
   ]
  },
  {
   "cell_type": "code",
   "execution_count": 28,
   "id": "e5c91706",
   "metadata": {},
   "outputs": [
    {
     "data": {
      "text/plain": [
       "VehicleID                  0\n",
       "Year                      16\n",
       "Amount (Million Naira)    17\n",
       "Type                       0\n",
       "Distance                   0\n",
       "                          ..\n",
       "Mica                       0\n",
       "Pearl                      0\n",
       "Lagos                      0\n",
       "Abuja                      0\n",
       "Ibadan                     0\n",
       "Length: 1296, dtype: int64"
      ]
     },
     "execution_count": 28,
     "metadata": {},
     "output_type": "execute_result"
    }
   ],
   "source": [
    "df.isnull().sum()"
   ]
  },
  {
   "cell_type": "code",
   "execution_count": 29,
   "id": "1bd86adf",
   "metadata": {},
   "outputs": [],
   "source": [
    "#We drop the null rows because inputting NaN for the target is not ideal.\n",
    "#The NaN values in this dataframe constitute a negligible percentage of the training data.\n",
    "\n",
    "\n",
    "df.dropna(inplace=True)\n",
    "df.reset_index(inplace=True,drop=True)"
   ]
  },
  {
   "cell_type": "code",
   "execution_count": 30,
   "id": "945540b1",
   "metadata": {},
   "outputs": [],
   "source": [
    "from sklearn.preprocessing import OrdinalEncoder"
   ]
  },
  {
   "cell_type": "code",
   "execution_count": 31,
   "id": "51a637df",
   "metadata": {},
   "outputs": [],
   "source": [
    "ordered_type = ['Nigerian Used', 'Foreign Used', 'Brand New']"
   ]
  },
  {
   "cell_type": "code",
   "execution_count": 32,
   "id": "e3d57272",
   "metadata": {},
   "outputs": [],
   "source": [
    "oe = OrdinalEncoder(categories=[ordered_type])"
   ]
  },
  {
   "cell_type": "code",
   "execution_count": 33,
   "id": "103f9aae",
   "metadata": {},
   "outputs": [],
   "source": [
    "df_transform = oe.fit_transform(df[['Type']])"
   ]
  },
  {
   "cell_type": "code",
   "execution_count": 34,
   "id": "85e4660a",
   "metadata": {},
   "outputs": [],
   "source": [
    "oe_data = pd.DataFrame(df_transform,index=df.index, columns=['Type_oe'])"
   ]
  },
  {
   "cell_type": "code",
   "execution_count": 35,
   "id": "62d43c74",
   "metadata": {},
   "outputs": [],
   "source": [
    "df = pd.concat([df,oe_data], axis=1)"
   ]
  },
  {
   "cell_type": "code",
   "execution_count": 36,
   "id": "a33ed125",
   "metadata": {},
   "outputs": [],
   "source": [
    "df.drop(columns=['Type'],inplace=True)"
   ]
  },
  {
   "cell_type": "code",
   "execution_count": 37,
   "id": "99076c6f",
   "metadata": {},
   "outputs": [],
   "source": [
    "#We juggle the year column and typecast the categories to integers.\n",
    "\n",
    "df['Year'] = df['Year'].str.replace(',','').astype(int)"
   ]
  },
  {
   "cell_type": "code",
   "execution_count": 38,
   "id": "2dc87618",
   "metadata": {},
   "outputs": [
    {
     "name": "stdout",
     "output_type": "stream",
     "text": [
      "<class 'pandas.core.frame.DataFrame'>\n",
      "RangeIndex: 7093 entries, 0 to 7092\n",
      "Columns: 1296 entries, VehicleID to Type_oe\n",
      "dtypes: float64(3), int32(1292), object(1)\n",
      "memory usage: 35.2+ MB\n"
     ]
    }
   ],
   "source": [
    "df.info()\n",
    "\n",
    "#We now have a clean dataset but our model needs numerical columns so we use one hot encoding to achieve this."
   ]
  },
  {
   "cell_type": "code",
   "execution_count": 39,
   "id": "6050cc9d",
   "metadata": {},
   "outputs": [
    {
     "data": {
      "text/html": [
       "<div>\n",
       "<style scoped>\n",
       "    .dataframe tbody tr th:only-of-type {\n",
       "        vertical-align: middle;\n",
       "    }\n",
       "\n",
       "    .dataframe tbody tr th {\n",
       "        vertical-align: top;\n",
       "    }\n",
       "\n",
       "    .dataframe thead th {\n",
       "        text-align: right;\n",
       "    }\n",
       "</style>\n",
       "<table border=\"1\" class=\"dataframe\">\n",
       "  <thead>\n",
       "    <tr style=\"text-align: right;\">\n",
       "      <th></th>\n",
       "      <th>Amount (Million Naira)</th>\n",
       "      <th>Type_oe</th>\n",
       "      <th>Year</th>\n",
       "      <th>Distance</th>\n",
       "    </tr>\n",
       "  </thead>\n",
       "  <tbody>\n",
       "    <tr>\n",
       "      <th>Amount (Million Naira)</th>\n",
       "      <td>1.000000</td>\n",
       "      <td>0.339992</td>\n",
       "      <td>0.454726</td>\n",
       "      <td>-0.328817</td>\n",
       "    </tr>\n",
       "    <tr>\n",
       "      <th>Type_oe</th>\n",
       "      <td>0.339992</td>\n",
       "      <td>1.000000</td>\n",
       "      <td>0.390619</td>\n",
       "      <td>-0.413267</td>\n",
       "    </tr>\n",
       "    <tr>\n",
       "      <th>Year</th>\n",
       "      <td>0.454726</td>\n",
       "      <td>0.390619</td>\n",
       "      <td>1.000000</td>\n",
       "      <td>-0.638064</td>\n",
       "    </tr>\n",
       "    <tr>\n",
       "      <th>Distance</th>\n",
       "      <td>-0.328817</td>\n",
       "      <td>-0.413267</td>\n",
       "      <td>-0.638064</td>\n",
       "      <td>1.000000</td>\n",
       "    </tr>\n",
       "  </tbody>\n",
       "</table>\n",
       "</div>"
      ],
      "text/plain": [
       "                        Amount (Million Naira)   Type_oe      Year  Distance\n",
       "Amount (Million Naira)                1.000000  0.339992  0.454726 -0.328817\n",
       "Type_oe                               0.339992  1.000000  0.390619 -0.413267\n",
       "Year                                  0.454726  0.390619  1.000000 -0.638064\n",
       "Distance                             -0.328817 -0.413267 -0.638064  1.000000"
      ]
     },
     "execution_count": 39,
     "metadata": {},
     "output_type": "execute_result"
    }
   ],
   "source": [
    "#Checking the correlation of the features to look out for multicollinearity\n",
    "\n",
    "\n",
    "df[['Amount (Million Naira)','Type_oe','Year','Distance']].corr()"
   ]
  },
  {
   "cell_type": "code",
   "execution_count": 40,
   "id": "3d92f2b7",
   "metadata": {},
   "outputs": [
    {
     "data": {
      "text/plain": [
       "<AxesSubplot:>"
      ]
     },
     "execution_count": 40,
     "metadata": {},
     "output_type": "execute_result"
    },
    {
     "data": {
      "image/png": "[encoded data removed]",
      "text/plain": [
       "<Figure size 432x288 with 2 Axes>"
      ]
     },
     "metadata": {
      "needs_background": "light"
     },
     "output_type": "display_data"
    }
   ],
   "source": [
    "#Visualising the correlation between features\n",
    "\n",
    "\n",
    "sns.heatmap(df[['Amount (Million Naira)','Type_oe','Year','Distance']].corr(),annot=True)"
   ]
  },
  {
   "cell_type": "markdown",
   "id": "025f3169",
   "metadata": {},
   "source": [
    "# Data Wrangling for the test data"
   ]
  },
  {
   "cell_type": "code",
   "execution_count": 41,
   "id": "79fc6d34",
   "metadata": {},
   "outputs": [
    {
     "data": {
      "text/html": [
       "<div>\n",
       "<style scoped>\n",
       "    .dataframe tbody tr th:only-of-type {\n",
       "        vertical-align: middle;\n",
       "    }\n",
       "\n",
       "    .dataframe tbody tr th {\n",
       "        vertical-align: top;\n",
       "    }\n",
       "\n",
       "    .dataframe thead th {\n",
       "        text-align: right;\n",
       "    }\n",
       "</style>\n",
       "<table border=\"1\" class=\"dataframe\">\n",
       "  <thead>\n",
       "    <tr style=\"text-align: right;\">\n",
       "      <th></th>\n",
       "      <th>VehicleID</th>\n",
       "      <th>Location</th>\n",
       "      <th>Maker</th>\n",
       "      <th>Model</th>\n",
       "      <th>Year</th>\n",
       "      <th>Colour</th>\n",
       "      <th>Type</th>\n",
       "      <th>Distance</th>\n",
       "    </tr>\n",
       "  </thead>\n",
       "  <tbody>\n",
       "    <tr>\n",
       "      <th>0</th>\n",
       "      <td>VHL18518</td>\n",
       "      <td>Abuja</td>\n",
       "      <td>BMW</td>\n",
       "      <td>323i</td>\n",
       "      <td>2,008</td>\n",
       "      <td>White</td>\n",
       "      <td>Foreign Used</td>\n",
       "      <td>30524.0</td>\n",
       "    </tr>\n",
       "    <tr>\n",
       "      <th>1</th>\n",
       "      <td>VHL17149</td>\n",
       "      <td>Lagos</td>\n",
       "      <td>Toyota</td>\n",
       "      <td>Camry</td>\n",
       "      <td>2,013</td>\n",
       "      <td>White</td>\n",
       "      <td>Foreign Used</td>\n",
       "      <td>NaN</td>\n",
       "    </tr>\n",
       "    <tr>\n",
       "      <th>2</th>\n",
       "      <td>VHL10927</td>\n",
       "      <td>Lagos</td>\n",
       "      <td>Toyota</td>\n",
       "      <td>Highlander Limited V6</td>\n",
       "      <td>2,005</td>\n",
       "      <td>Gold</td>\n",
       "      <td>Foreign Used</td>\n",
       "      <td>NaN</td>\n",
       "    </tr>\n",
       "    <tr>\n",
       "      <th>3</th>\n",
       "      <td>VHL12909</td>\n",
       "      <td>Lagos</td>\n",
       "      <td>Toyota</td>\n",
       "      <td>Camry</td>\n",
       "      <td>2,011</td>\n",
       "      <td>Gray</td>\n",
       "      <td>Foreign Used</td>\n",
       "      <td>166839.0</td>\n",
       "    </tr>\n",
       "    <tr>\n",
       "      <th>4</th>\n",
       "      <td>VHL12348</td>\n",
       "      <td>Lagos</td>\n",
       "      <td>Lexus</td>\n",
       "      <td>ES 350 FWD</td>\n",
       "      <td>2,013</td>\n",
       "      <td>Red</td>\n",
       "      <td>Foreign Used</td>\n",
       "      <td>88862.0</td>\n",
       "    </tr>\n",
       "  </tbody>\n",
       "</table>\n",
       "</div>"
      ],
      "text/plain": [
       "  VehicleID Location   Maker                  Model   Year Colour  \\\n",
       "0  VHL18518    Abuja     BMW                   323i  2,008  White   \n",
       "1  VHL17149    Lagos  Toyota                  Camry  2,013  White   \n",
       "2  VHL10927    Lagos  Toyota  Highlander Limited V6  2,005   Gold   \n",
       "3  VHL12909    Lagos  Toyota                  Camry  2,011   Gray   \n",
       "4  VHL12348    Lagos   Lexus             ES 350 FWD  2,013    Red   \n",
       "\n",
       "           Type  Distance  \n",
       "0  Foreign Used   30524.0  \n",
       "1  Foreign Used       NaN  \n",
       "2  Foreign Used       NaN  \n",
       "3  Foreign Used  166839.0  \n",
       "4  Foreign Used   88862.0  "
      ]
     },
     "execution_count": 41,
     "metadata": {},
     "output_type": "execute_result"
    }
   ],
   "source": [
    "df_test.head()"
   ]
  },
  {
   "cell_type": "code",
   "execution_count": 42,
   "id": "688a76ae",
   "metadata": {},
   "outputs": [
    {
     "data": {
      "text/plain": [
       "(2061, 8)"
      ]
     },
     "execution_count": 42,
     "metadata": {},
     "output_type": "execute_result"
    }
   ],
   "source": [
    "df_test.shape"
   ]
  },
  {
   "cell_type": "code",
   "execution_count": 43,
   "id": "73f56850",
   "metadata": {},
   "outputs": [
    {
     "name": "stdout",
     "output_type": "stream",
     "text": [
      "<class 'pandas.core.frame.DataFrame'>\n",
      "RangeIndex: 2061 entries, 0 to 2060\n",
      "Data columns (total 8 columns):\n",
      " #   Column     Non-Null Count  Dtype  \n",
      "---  ------     --------------  -----  \n",
      " 0   VehicleID  2061 non-null   object \n",
      " 1   Location   2061 non-null   object \n",
      " 2   Maker      2061 non-null   object \n",
      " 3   Model      2061 non-null   object \n",
      " 4   Year       2059 non-null   object \n",
      " 5   Colour     2061 non-null   object \n",
      " 6   Type       2007 non-null   object \n",
      " 7   Distance   1385 non-null   float64\n",
      "dtypes: float64(1), object(7)\n",
      "memory usage: 128.9+ KB\n"
     ]
    }
   ],
   "source": [
    "df_test.info()"
   ]
  },
  {
   "cell_type": "code",
   "execution_count": 44,
   "id": "0564e58b",
   "metadata": {},
   "outputs": [
    {
     "data": {
      "text/plain": [
       "VehicleID      0\n",
       "Location       0\n",
       "Maker          0\n",
       "Model          0\n",
       "Year           2\n",
       "Colour         0\n",
       "Type          54\n",
       "Distance     676\n",
       "dtype: int64"
      ]
     },
     "execution_count": 44,
     "metadata": {},
     "output_type": "execute_result"
    }
   ],
   "source": [
    "df_test.isnull().sum()"
   ]
  },
  {
   "cell_type": "code",
   "execution_count": 45,
   "id": "a67d75a2",
   "metadata": {},
   "outputs": [
    {
     "data": {
      "text/plain": [
       "0"
      ]
     },
     "execution_count": 45,
     "metadata": {},
     "output_type": "execute_result"
    }
   ],
   "source": [
    "df_test.duplicated().sum()"
   ]
  },
  {
   "cell_type": "code",
   "execution_count": 46,
   "id": "a00287d0",
   "metadata": {},
   "outputs": [],
   "source": [
    "#There are many null values in the Distance column.\n",
    "#We group our dataframe by the Year column and take the mean and/or median distances and fill NaN values\n",
    "\n",
    "df_test['Distance'] = df_test['Distance'].fillna(df_test.groupby('Year')['Distance'].transform('mean'))\n",
    "df_test['Distance'].fillna(df_test['Distance'].median(),inplace=True)"
   ]
  },
  {
   "cell_type": "code",
   "execution_count": 47,
   "id": "d00e0a62",
   "metadata": {},
   "outputs": [],
   "source": [
    "#Fill NaN values in the type column\n",
    "\n",
    "df_test['Type'] = df_test[['Type','Distance']].apply(cartype,axis=1)"
   ]
  },
  {
   "cell_type": "code",
   "execution_count": 48,
   "id": "6a34f9ac",
   "metadata": {},
   "outputs": [],
   "source": [
    "#The NaN values in this dataframe constitute a negligible percentage of the testing data.\n",
    "#We fill them with the mode data in each column\n",
    "\n",
    "df_test['Year'].fillna(df_test['Year'].mode()[0],inplace=True)"
   ]
  },
  {
   "cell_type": "code",
   "execution_count": 49,
   "id": "8324280a",
   "metadata": {},
   "outputs": [
    {
     "data": {
      "text/plain": [
       "VehicleID    0\n",
       "Location     0\n",
       "Maker        0\n",
       "Model        0\n",
       "Year         0\n",
       "Colour       0\n",
       "Type         0\n",
       "Distance     0\n",
       "dtype: int64"
      ]
     },
     "execution_count": 49,
     "metadata": {},
     "output_type": "execute_result"
    }
   ],
   "source": [
    "df_test.isnull().sum()"
   ]
  },
  {
   "cell_type": "code",
   "execution_count": 50,
   "id": "bf225bfa",
   "metadata": {},
   "outputs": [],
   "source": [
    "#We substitute the categorical columns with numerical columns by getting dummy variables off of the categorical features\n",
    "#locations_test = [location for location in df_test.Location.value_counts().sort_values(ascending=False).index]\n",
    "\n",
    "\n",
    "for location in locations:\n",
    "    df_test[location] = np.where(df_test['Location'] == location,1,0)"
   ]
  },
  {
   "cell_type": "code",
   "execution_count": 51,
   "id": "1b0cbe3e",
   "metadata": {},
   "outputs": [],
   "source": [
    "#makers_test = [maker for maker in df_test.Maker.value_counts().sort_values(ascending=False).index]\n",
    "\n",
    "\n",
    "for maker in makers:\n",
    "    df_test[maker] = np.where(df_test['Maker'] == maker,1,0)"
   ]
  },
  {
   "cell_type": "code",
   "execution_count": 52,
   "id": "dd509338",
   "metadata": {},
   "outputs": [],
   "source": [
    "#models_test = [model for model in df_test.Model.value_counts().sort_values(ascending=False).index]\n",
    "\n",
    "\n",
    "for model in models:\n",
    "    df_test[model] = np.where(df_test['Model'] == model,1,0)"
   ]
  },
  {
   "cell_type": "code",
   "execution_count": 53,
   "id": "b02063e9",
   "metadata": {},
   "outputs": [],
   "source": [
    "#colours_test = [colour for colour in df_test.Colour.value_counts().sort_values(ascending=False).index]\n",
    "\n",
    "\n",
    "for colour in colours:\n",
    "    df_test[colour] = np.where(df_test['Colour'] == colour,1,0)"
   ]
  },
  {
   "cell_type": "code",
   "execution_count": 54,
   "id": "91e4a684",
   "metadata": {},
   "outputs": [],
   "source": [
    "#We drop the categorical columns for the test data\n",
    "\n",
    "df_test.drop(columns=['Location','Maker','Colour','Model'],inplace=True)"
   ]
  },
  {
   "cell_type": "code",
   "execution_count": 55,
   "id": "079112b5",
   "metadata": {},
   "outputs": [],
   "source": [
    "df_transform_test = oe.fit_transform(df_test[['Type']])"
   ]
  },
  {
   "cell_type": "code",
   "execution_count": 56,
   "id": "55dfa3dd",
   "metadata": {},
   "outputs": [],
   "source": [
    "oe_data_test = pd.DataFrame(df_transform_test,index=df_test.index, columns=['Type_oe'])"
   ]
  },
  {
   "cell_type": "code",
   "execution_count": 57,
   "id": "08e16cf6",
   "metadata": {},
   "outputs": [],
   "source": [
    "df_test = pd.concat([df_test,oe_data_test], axis=1)"
   ]
  },
  {
   "cell_type": "code",
   "execution_count": 58,
   "id": "c905bac5",
   "metadata": {},
   "outputs": [],
   "source": [
    "df_test.drop(columns=['Type','VehicleID'],inplace=True)"
   ]
  },
  {
   "cell_type": "code",
   "execution_count": 59,
   "id": "08e38111",
   "metadata": {},
   "outputs": [],
   "source": [
    "#We juggle the year column and typecast the categories to integers.\n",
    "\n",
    "df_test['Year'] = df_test['Year'].str.replace(',','').astype(int)"
   ]
  },
  {
   "cell_type": "code",
   "execution_count": 60,
   "id": "11832ccf",
   "metadata": {},
   "outputs": [],
   "source": [
    "#Import the necessary libraries\n",
    "\n",
    "\n",
    "from sklearn.model_selection import train_test_split\n",
    "from catboost import CatBoostRegressor\n",
    "from sklearn.metrics import mean_squared_error"
   ]
  },
  {
   "cell_type": "code",
   "execution_count": 61,
   "id": "4e8c2a84",
   "metadata": {},
   "outputs": [],
   "source": [
    "X = df.drop(['VehicleID', 'Amount (Million Naira)'], axis=1)\n",
    "y = df['Amount (Million Naira)']"
   ]
  },
  {
   "cell_type": "code",
   "execution_count": 62,
   "id": "cb3d8f2b",
   "metadata": {},
   "outputs": [],
   "source": [
    "X_train, X_test, y_train, y_test = train_test_split(X, y, test_size=0.2, random_state=999)"
   ]
  },
  {
   "cell_type": "code",
   "execution_count": 63,
   "id": "eae09341",
   "metadata": {},
   "outputs": [],
   "source": [
    "catboost_model = CatBoostRegressor()"
   ]
  },
  {
   "cell_type": "code",
   "execution_count": 64,
   "id": "358c2d43",
   "metadata": {},
   "outputs": [
    {
     "name": "stdout",
     "output_type": "stream",
     "text": [
      "Learning rate set to 0.053161\n",
      "0:\tlearn: 25.8836416\ttotal: 142ms\tremaining: 2m 21s\n",
      "1:\tlearn: 25.2445994\ttotal: 152ms\tremaining: 1m 15s\n",
      "2:\tlearn: 24.5857727\ttotal: 162ms\tremaining: 53.7s\n",
      "3:\tlearn: 24.0241057\ttotal: 171ms\tremaining: 42.7s\n",
      "4:\tlearn: 23.4200034\ttotal: 184ms\tremaining: 36.7s\n",
      "5:\tlearn: 22.8856625\ttotal: 198ms\tremaining: 32.7s\n",
      "6:\tlearn: 22.4171089\ttotal: 208ms\tremaining: 29.5s\n",
      "7:\tlearn: 21.9158224\ttotal: 219ms\tremaining: 27.1s\n",
      "8:\tlearn: 21.4342334\ttotal: 228ms\tremaining: 25.1s\n",
      "9:\tlearn: 20.9883550\ttotal: 238ms\tremaining: 23.6s\n",
      "10:\tlearn: 20.5525541\ttotal: 248ms\tremaining: 22.3s\n",
      "11:\tlearn: 20.1413840\ttotal: 257ms\tremaining: 21.2s\n",
      "12:\tlearn: 19.7351182\ttotal: 267ms\tremaining: 20.3s\n",
      "13:\tlearn: 19.3523214\ttotal: 276ms\tremaining: 19.5s\n",
      "14:\tlearn: 19.0388160\ttotal: 286ms\tremaining: 18.8s\n",
      "15:\tlearn: 18.6943408\ttotal: 295ms\tremaining: 18.2s\n",
      "16:\tlearn: 18.4159821\ttotal: 305ms\tremaining: 17.6s\n",
      "17:\tlearn: 18.1309054\ttotal: 314ms\tremaining: 17.1s\n",
      "18:\tlearn: 17.8487231\ttotal: 324ms\tremaining: 16.7s\n",
      "19:\tlearn: 17.5828116\ttotal: 334ms\tremaining: 16.4s\n",
      "20:\tlearn: 17.3548061\ttotal: 348ms\tremaining: 16.2s\n",
      "21:\tlearn: 17.1262271\ttotal: 359ms\tremaining: 15.9s\n",
      "22:\tlearn: 16.9057803\ttotal: 371ms\tremaining: 15.8s\n",
      "23:\tlearn: 16.6889128\ttotal: 384ms\tremaining: 15.6s\n",
      "24:\tlearn: 16.4762915\ttotal: 395ms\tremaining: 15.4s\n",
      "25:\tlearn: 16.2640518\ttotal: 407ms\tremaining: 15.2s\n",
      "26:\tlearn: 16.0908285\ttotal: 418ms\tremaining: 15.1s\n",
      "27:\tlearn: 15.9282234\ttotal: 428ms\tremaining: 14.9s\n",
      "28:\tlearn: 15.7721927\ttotal: 438ms\tremaining: 14.6s\n",
      "29:\tlearn: 15.6266593\ttotal: 448ms\tremaining: 14.5s\n",
      "30:\tlearn: 15.4786862\ttotal: 457ms\tremaining: 14.3s\n",
      "31:\tlearn: 15.3597931\ttotal: 466ms\tremaining: 14.1s\n",
      "32:\tlearn: 15.2022328\ttotal: 476ms\tremaining: 13.9s\n",
      "33:\tlearn: 15.0682946\ttotal: 485ms\tremaining: 13.8s\n",
      "34:\tlearn: 14.9431195\ttotal: 494ms\tremaining: 13.6s\n",
      "35:\tlearn: 14.8090396\ttotal: 504ms\tremaining: 13.5s\n",
      "36:\tlearn: 14.6957995\ttotal: 514ms\tremaining: 13.4s\n",
      "37:\tlearn: 14.5869222\ttotal: 523ms\tremaining: 13.2s\n",
      "38:\tlearn: 14.4788071\ttotal: 532ms\tremaining: 13.1s\n",
      "39:\tlearn: 14.3775776\ttotal: 542ms\tremaining: 13s\n",
      "40:\tlearn: 14.2816959\ttotal: 551ms\tremaining: 12.9s\n",
      "41:\tlearn: 14.2446503\ttotal: 561ms\tremaining: 12.8s\n",
      "42:\tlearn: 14.1658371\ttotal: 573ms\tremaining: 12.7s\n",
      "43:\tlearn: 14.1008438\ttotal: 585ms\tremaining: 12.7s\n",
      "44:\tlearn: 13.9942669\ttotal: 597ms\tremaining: 12.7s\n",
      "45:\tlearn: 13.9187519\ttotal: 607ms\tremaining: 12.6s\n",
      "46:\tlearn: 13.8399857\ttotal: 616ms\tremaining: 12.5s\n",
      "47:\tlearn: 13.7984324\ttotal: 625ms\tremaining: 12.4s\n",
      "48:\tlearn: 13.7665607\ttotal: 635ms\tremaining: 12.3s\n",
      "49:\tlearn: 13.6824525\ttotal: 644ms\tremaining: 12.2s\n",
      "50:\tlearn: 13.6153979\ttotal: 653ms\tremaining: 12.2s\n",
      "51:\tlearn: 13.5485843\ttotal: 664ms\tremaining: 12.1s\n",
      "52:\tlearn: 13.4862646\ttotal: 677ms\tremaining: 12.1s\n",
      "53:\tlearn: 13.4504133\ttotal: 687ms\tremaining: 12s\n",
      "54:\tlearn: 13.4203638\ttotal: 697ms\tremaining: 12s\n",
      "55:\tlearn: 13.3828650\ttotal: 706ms\tremaining: 11.9s\n",
      "56:\tlearn: 13.3492488\ttotal: 715ms\tremaining: 11.8s\n",
      "57:\tlearn: 13.2614777\ttotal: 726ms\tremaining: 11.8s\n",
      "58:\tlearn: 13.2302837\ttotal: 738ms\tremaining: 11.8s\n",
      "59:\tlearn: 13.2024560\ttotal: 748ms\tremaining: 11.7s\n",
      "60:\tlearn: 13.1362602\ttotal: 758ms\tremaining: 11.7s\n",
      "61:\tlearn: 13.1075341\ttotal: 769ms\tremaining: 11.6s\n",
      "62:\tlearn: 13.0715004\ttotal: 781ms\tremaining: 11.6s\n",
      "63:\tlearn: 13.0452254\ttotal: 796ms\tremaining: 11.6s\n",
      "64:\tlearn: 12.9751804\ttotal: 808ms\tremaining: 11.6s\n",
      "65:\tlearn: 12.9297008\ttotal: 818ms\tremaining: 11.6s\n",
      "66:\tlearn: 12.8375638\ttotal: 828ms\tremaining: 11.5s\n",
      "67:\tlearn: 12.8027202\ttotal: 837ms\tremaining: 11.5s\n",
      "68:\tlearn: 12.7402316\ttotal: 847ms\tremaining: 11.4s\n",
      "69:\tlearn: 12.7168464\ttotal: 857ms\tremaining: 11.4s\n",
      "70:\tlearn: 12.6861708\ttotal: 866ms\tremaining: 11.3s\n",
      "71:\tlearn: 12.6046237\ttotal: 876ms\tremaining: 11.3s\n",
      "72:\tlearn: 12.5856946\ttotal: 885ms\tremaining: 11.2s\n",
      "73:\tlearn: 12.5210702\ttotal: 895ms\tremaining: 11.2s\n",
      "74:\tlearn: 12.4938382\ttotal: 904ms\tremaining: 11.2s\n",
      "75:\tlearn: 12.4669884\ttotal: 914ms\tremaining: 11.1s\n",
      "76:\tlearn: 12.4463737\ttotal: 923ms\tremaining: 11.1s\n",
      "77:\tlearn: 12.4269094\ttotal: 933ms\tremaining: 11s\n",
      "78:\tlearn: 12.3549480\ttotal: 943ms\tremaining: 11s\n",
      "79:\tlearn: 12.3015609\ttotal: 962ms\tremaining: 11.1s\n",
      "80:\tlearn: 12.2780153\ttotal: 975ms\tremaining: 11.1s\n",
      "81:\tlearn: 12.2585509\ttotal: 988ms\tremaining: 11.1s\n",
      "82:\tlearn: 12.2403001\ttotal: 997ms\tremaining: 11s\n",
      "83:\tlearn: 12.2207296\ttotal: 1.02s\tremaining: 11.2s\n",
      "84:\tlearn: 12.1800614\ttotal: 1.03s\tremaining: 11.1s\n",
      "85:\tlearn: 12.1171028\ttotal: 1.04s\tremaining: 11.1s\n",
      "86:\tlearn: 12.0688384\ttotal: 1.05s\tremaining: 11.1s\n",
      "87:\tlearn: 12.0510239\ttotal: 1.06s\tremaining: 11s\n",
      "88:\tlearn: 12.0050639\ttotal: 1.07s\tremaining: 11s\n",
      "89:\tlearn: 11.9685309\ttotal: 1.08s\tremaining: 10.9s\n",
      "90:\tlearn: 11.9307739\ttotal: 1.09s\tremaining: 10.9s\n",
      "91:\tlearn: 11.8917802\ttotal: 1.1s\tremaining: 10.9s\n",
      "92:\tlearn: 11.8284445\ttotal: 1.11s\tremaining: 10.8s\n",
      "93:\tlearn: 11.7939888\ttotal: 1.12s\tremaining: 10.8s\n",
      "94:\tlearn: 11.7699300\ttotal: 1.13s\tremaining: 10.8s\n",
      "95:\tlearn: 11.7567194\ttotal: 1.14s\tremaining: 10.7s\n",
      "96:\tlearn: 11.7209512\ttotal: 1.15s\tremaining: 10.7s\n",
      "97:\tlearn: 11.6958224\ttotal: 1.16s\tremaining: 10.7s\n",
      "98:\tlearn: 11.6740355\ttotal: 1.17s\tremaining: 10.6s\n",
      "99:\tlearn: 11.6458006\ttotal: 1.18s\tremaining: 10.6s\n",
      "100:\tlearn: 11.6319082\ttotal: 1.19s\tremaining: 10.6s\n",
      "101:\tlearn: 11.6023236\ttotal: 1.2s\tremaining: 10.6s\n",
      "102:\tlearn: 11.5871142\ttotal: 1.21s\tremaining: 10.6s\n",
      "103:\tlearn: 11.5725491\ttotal: 1.22s\tremaining: 10.5s\n",
      "104:\tlearn: 11.5207894\ttotal: 1.23s\tremaining: 10.5s\n",
      "105:\tlearn: 11.5077418\ttotal: 1.24s\tremaining: 10.5s\n",
      "106:\tlearn: 11.4701045\ttotal: 1.25s\tremaining: 10.4s\n",
      "107:\tlearn: 11.4185309\ttotal: 1.26s\tremaining: 10.4s\n",
      "108:\tlearn: 11.3550489\ttotal: 1.27s\tremaining: 10.4s\n",
      "109:\tlearn: 11.3114862\ttotal: 1.28s\tremaining: 10.4s\n",
      "110:\tlearn: 11.2972286\ttotal: 1.29s\tremaining: 10.3s\n",
      "111:\tlearn: 11.2817208\ttotal: 1.3s\tremaining: 10.3s\n",
      "112:\tlearn: 11.2697893\ttotal: 1.31s\tremaining: 10.3s\n",
      "113:\tlearn: 11.2575585\ttotal: 1.32s\tremaining: 10.2s\n",
      "114:\tlearn: 11.2112631\ttotal: 1.33s\tremaining: 10.2s\n",
      "115:\tlearn: 11.1954266\ttotal: 1.34s\tremaining: 10.2s\n",
      "116:\tlearn: 11.1537645\ttotal: 1.35s\tremaining: 10.2s\n",
      "117:\tlearn: 11.1092609\ttotal: 1.36s\tremaining: 10.1s\n",
      "118:\tlearn: 11.0743030\ttotal: 1.37s\tremaining: 10.1s\n",
      "119:\tlearn: 11.0614175\ttotal: 1.38s\tremaining: 10.2s\n",
      "120:\tlearn: 11.0480351\ttotal: 1.4s\tremaining: 10.1s\n",
      "121:\tlearn: 11.0044876\ttotal: 1.41s\tremaining: 10.1s\n",
      "122:\tlearn: 10.9686418\ttotal: 1.42s\tremaining: 10.1s\n",
      "123:\tlearn: 10.9381952\ttotal: 1.43s\tremaining: 10.1s\n",
      "124:\tlearn: 10.9121080\ttotal: 1.44s\tremaining: 10.1s\n",
      "125:\tlearn: 10.8931898\ttotal: 1.46s\tremaining: 10.1s\n",
      "126:\tlearn: 10.8570224\ttotal: 1.46s\tremaining: 10.1s\n",
      "127:\tlearn: 10.8429307\ttotal: 1.47s\tremaining: 10s\n",
      "128:\tlearn: 10.8296641\ttotal: 1.48s\tremaining: 10s\n",
      "129:\tlearn: 10.8171374\ttotal: 1.49s\tremaining: 9.99s\n",
      "130:\tlearn: 10.8061719\ttotal: 1.5s\tremaining: 9.97s\n",
      "131:\tlearn: 10.7895487\ttotal: 1.51s\tremaining: 9.97s\n",
      "132:\tlearn: 10.7749100\ttotal: 1.53s\tremaining: 9.95s\n",
      "133:\tlearn: 10.7483308\ttotal: 1.54s\tremaining: 9.94s\n",
      "134:\tlearn: 10.7376045\ttotal: 1.55s\tremaining: 9.91s\n",
      "135:\tlearn: 10.7271517\ttotal: 1.56s\tremaining: 9.89s\n",
      "136:\tlearn: 10.7171565\ttotal: 1.57s\tremaining: 9.88s\n",
      "137:\tlearn: 10.6802802\ttotal: 1.58s\tremaining: 9.87s\n",
      "138:\tlearn: 10.6522387\ttotal: 1.59s\tremaining: 9.86s\n",
      "139:\tlearn: 10.6407824\ttotal: 1.6s\tremaining: 9.84s\n",
      "140:\tlearn: 10.6124967\ttotal: 1.61s\tremaining: 9.82s\n",
      "141:\tlearn: 10.5928600\ttotal: 1.62s\tremaining: 9.8s\n",
      "142:\tlearn: 10.5612570\ttotal: 1.63s\tremaining: 9.78s\n",
      "143:\tlearn: 10.5486931\ttotal: 1.64s\tremaining: 9.75s\n",
      "144:\tlearn: 10.5160081\ttotal: 1.65s\tremaining: 9.73s\n",
      "145:\tlearn: 10.4895550\ttotal: 1.66s\tremaining: 9.71s\n",
      "146:\tlearn: 10.4617200\ttotal: 1.67s\tremaining: 9.68s\n",
      "147:\tlearn: 10.4369514\ttotal: 1.68s\tremaining: 9.66s\n",
      "148:\tlearn: 10.4238129\ttotal: 1.69s\tremaining: 9.64s\n",
      "149:\tlearn: 10.4155278\ttotal: 1.7s\tremaining: 9.61s\n",
      "150:\tlearn: 10.4051973\ttotal: 1.71s\tremaining: 9.59s\n",
      "151:\tlearn: 10.3821928\ttotal: 1.72s\tremaining: 9.57s\n",
      "152:\tlearn: 10.3524828\ttotal: 1.72s\tremaining: 9.55s\n",
      "153:\tlearn: 10.3396007\ttotal: 1.73s\tremaining: 9.53s\n",
      "154:\tlearn: 10.3123139\ttotal: 1.74s\tremaining: 9.51s\n",
      "155:\tlearn: 10.3018172\ttotal: 1.75s\tremaining: 9.48s\n",
      "156:\tlearn: 10.2706098\ttotal: 1.77s\tremaining: 9.48s\n",
      "157:\tlearn: 10.2586735\ttotal: 1.78s\tremaining: 9.47s\n",
      "158:\tlearn: 10.2372944\ttotal: 1.79s\tremaining: 9.46s\n",
      "159:\tlearn: 10.2049127\ttotal: 1.8s\tremaining: 9.45s\n",
      "160:\tlearn: 10.1759457\ttotal: 1.81s\tremaining: 9.43s\n",
      "161:\tlearn: 10.1657898\ttotal: 1.82s\tremaining: 9.4s\n",
      "162:\tlearn: 10.1497820\ttotal: 1.83s\tremaining: 9.38s\n",
      "163:\tlearn: 10.1355639\ttotal: 1.84s\tremaining: 9.36s\n",
      "164:\tlearn: 10.1266938\ttotal: 1.84s\tremaining: 9.34s\n",
      "165:\tlearn: 10.0988012\ttotal: 1.85s\tremaining: 9.32s\n",
      "166:\tlearn: 10.0852864\ttotal: 1.86s\tremaining: 9.3s\n",
      "167:\tlearn: 10.0544693\ttotal: 1.87s\tremaining: 9.28s\n",
      "168:\tlearn: 10.0448168\ttotal: 1.88s\tremaining: 9.26s\n",
      "169:\tlearn: 10.0211193\ttotal: 1.89s\tremaining: 9.24s\n",
      "170:\tlearn: 10.0115555\ttotal: 1.9s\tremaining: 9.22s\n",
      "171:\tlearn: 10.0003382\ttotal: 1.91s\tremaining: 9.2s\n",
      "172:\tlearn: 9.9902834\ttotal: 1.92s\tremaining: 9.18s\n",
      "173:\tlearn: 9.9623065\ttotal: 1.93s\tremaining: 9.16s\n",
      "174:\tlearn: 9.9536599\ttotal: 1.94s\tremaining: 9.14s\n",
      "175:\tlearn: 9.9429127\ttotal: 1.95s\tremaining: 9.13s\n"
     ]
    },
    {
     "name": "stdout",
     "output_type": "stream",
     "text": [
      "176:\tlearn: 9.9181009\ttotal: 1.96s\tremaining: 9.12s\n",
      "177:\tlearn: 9.9098409\ttotal: 1.97s\tremaining: 9.11s\n",
      "178:\tlearn: 9.8958963\ttotal: 1.99s\tremaining: 9.11s\n",
      "179:\tlearn: 9.8875044\ttotal: 2s\tremaining: 9.11s\n",
      "180:\tlearn: 9.8791380\ttotal: 2.01s\tremaining: 9.09s\n",
      "181:\tlearn: 9.8658157\ttotal: 2.02s\tremaining: 9.07s\n",
      "182:\tlearn: 9.8372167\ttotal: 2.03s\tremaining: 9.07s\n",
      "183:\tlearn: 9.8251158\ttotal: 2.04s\tremaining: 9.05s\n",
      "184:\tlearn: 9.8152700\ttotal: 2.05s\tremaining: 9.03s\n",
      "185:\tlearn: 9.7938955\ttotal: 2.06s\tremaining: 9.01s\n",
      "186:\tlearn: 9.7712963\ttotal: 2.07s\tremaining: 9s\n",
      "187:\tlearn: 9.7633926\ttotal: 2.08s\tremaining: 8.98s\n",
      "188:\tlearn: 9.7432333\ttotal: 2.09s\tremaining: 8.96s\n",
      "189:\tlearn: 9.7220023\ttotal: 2.1s\tremaining: 8.94s\n",
      "190:\tlearn: 9.7026892\ttotal: 2.11s\tremaining: 8.92s\n",
      "191:\tlearn: 9.6840180\ttotal: 2.12s\tremaining: 8.9s\n",
      "192:\tlearn: 9.6765294\ttotal: 2.13s\tremaining: 8.89s\n",
      "193:\tlearn: 9.6687093\ttotal: 2.13s\tremaining: 8.87s\n",
      "194:\tlearn: 9.6606344\ttotal: 2.15s\tremaining: 8.86s\n",
      "195:\tlearn: 9.6530827\ttotal: 2.16s\tremaining: 8.88s\n",
      "196:\tlearn: 9.6338881\ttotal: 2.17s\tremaining: 8.87s\n",
      "197:\tlearn: 9.6265693\ttotal: 2.19s\tremaining: 8.85s\n",
      "198:\tlearn: 9.5986102\ttotal: 2.19s\tremaining: 8.83s\n",
      "199:\tlearn: 9.5912963\ttotal: 2.2s\tremaining: 8.82s\n",
      "200:\tlearn: 9.5840396\ttotal: 2.21s\tremaining: 8.8s\n",
      "201:\tlearn: 9.5754494\ttotal: 2.22s\tremaining: 8.78s\n",
      "202:\tlearn: 9.5601222\ttotal: 2.23s\tremaining: 8.77s\n",
      "203:\tlearn: 9.5465762\ttotal: 2.24s\tremaining: 8.75s\n",
      "204:\tlearn: 9.5240794\ttotal: 2.25s\tremaining: 8.73s\n",
      "205:\tlearn: 9.4928938\ttotal: 2.26s\tremaining: 8.71s\n",
      "206:\tlearn: 9.4732731\ttotal: 2.27s\tremaining: 8.7s\n",
      "207:\tlearn: 9.4662587\ttotal: 2.28s\tremaining: 8.68s\n",
      "208:\tlearn: 9.4537018\ttotal: 2.29s\tremaining: 8.66s\n",
      "209:\tlearn: 9.4462613\ttotal: 2.3s\tremaining: 8.65s\n",
      "210:\tlearn: 9.4220339\ttotal: 2.31s\tremaining: 8.63s\n",
      "211:\tlearn: 9.4150341\ttotal: 2.32s\tremaining: 8.61s\n",
      "212:\tlearn: 9.3945552\ttotal: 2.33s\tremaining: 8.6s\n",
      "213:\tlearn: 9.3860371\ttotal: 2.34s\tremaining: 8.58s\n",
      "214:\tlearn: 9.3735427\ttotal: 2.35s\tremaining: 8.58s\n",
      "215:\tlearn: 9.3604565\ttotal: 2.36s\tremaining: 8.56s\n",
      "216:\tlearn: 9.3528876\ttotal: 2.37s\tremaining: 8.55s\n",
      "217:\tlearn: 9.3460426\ttotal: 2.38s\tremaining: 8.53s\n",
      "218:\tlearn: 9.3335787\ttotal: 2.39s\tremaining: 8.52s\n",
      "219:\tlearn: 9.3115913\ttotal: 2.4s\tremaining: 8.5s\n",
      "220:\tlearn: 9.2850511\ttotal: 2.41s\tremaining: 8.49s\n",
      "221:\tlearn: 9.2782846\ttotal: 2.42s\tremaining: 8.48s\n",
      "222:\tlearn: 9.2716795\ttotal: 2.43s\tremaining: 8.47s\n",
      "223:\tlearn: 9.2541011\ttotal: 2.44s\tremaining: 8.46s\n",
      "224:\tlearn: 9.2449165\ttotal: 2.45s\tremaining: 8.45s\n",
      "225:\tlearn: 9.2384005\ttotal: 2.46s\tremaining: 8.43s\n",
      "226:\tlearn: 9.2306125\ttotal: 2.47s\tremaining: 8.42s\n",
      "227:\tlearn: 9.2242263\ttotal: 2.48s\tremaining: 8.41s\n",
      "228:\tlearn: 9.2179774\ttotal: 2.49s\tremaining: 8.4s\n",
      "229:\tlearn: 9.2000127\ttotal: 2.5s\tremaining: 8.38s\n",
      "230:\tlearn: 9.1886806\ttotal: 2.51s\tremaining: 8.37s\n",
      "231:\tlearn: 9.1717055\ttotal: 2.52s\tremaining: 8.35s\n",
      "232:\tlearn: 9.1483821\ttotal: 2.53s\tremaining: 8.34s\n",
      "233:\tlearn: 9.1421974\ttotal: 2.54s\tremaining: 8.33s\n",
      "234:\tlearn: 9.1308744\ttotal: 2.56s\tremaining: 8.32s\n",
      "235:\tlearn: 9.1117852\ttotal: 2.57s\tremaining: 8.31s\n",
      "236:\tlearn: 9.0980234\ttotal: 2.58s\tremaining: 8.29s\n",
      "237:\tlearn: 9.0919188\ttotal: 2.58s\tremaining: 8.28s\n",
      "238:\tlearn: 9.0770315\ttotal: 2.59s\tremaining: 8.26s\n",
      "239:\tlearn: 9.0580765\ttotal: 2.6s\tremaining: 8.25s\n",
      "240:\tlearn: 9.0520523\ttotal: 2.61s\tremaining: 8.23s\n",
      "241:\tlearn: 9.0403222\ttotal: 2.62s\tremaining: 8.21s\n",
      "242:\tlearn: 9.0343885\ttotal: 2.63s\tremaining: 8.2s\n",
      "243:\tlearn: 9.0132992\ttotal: 2.64s\tremaining: 8.18s\n",
      "244:\tlearn: 8.9945002\ttotal: 2.65s\tremaining: 8.17s\n",
      "245:\tlearn: 8.9879018\ttotal: 2.66s\tremaining: 8.15s\n",
      "246:\tlearn: 8.9644030\ttotal: 2.67s\tremaining: 8.14s\n",
      "247:\tlearn: 8.9549875\ttotal: 2.68s\tremaining: 8.12s\n",
      "248:\tlearn: 8.9484795\ttotal: 2.69s\tremaining: 8.11s\n",
      "249:\tlearn: 8.9427330\ttotal: 2.7s\tremaining: 8.09s\n",
      "250:\tlearn: 8.9366900\ttotal: 2.71s\tremaining: 8.08s\n",
      "251:\tlearn: 8.9310177\ttotal: 2.72s\tremaining: 8.06s\n",
      "252:\tlearn: 8.9247656\ttotal: 2.73s\tremaining: 8.05s\n",
      "253:\tlearn: 8.9188749\ttotal: 2.74s\tremaining: 8.04s\n",
      "254:\tlearn: 8.9018806\ttotal: 2.75s\tremaining: 8.03s\n",
      "255:\tlearn: 8.8859233\ttotal: 2.76s\tremaining: 8.02s\n",
      "256:\tlearn: 8.8803810\ttotal: 2.77s\tremaining: 8.01s\n",
      "257:\tlearn: 8.8642078\ttotal: 2.78s\tremaining: 8.01s\n",
      "258:\tlearn: 8.8493566\ttotal: 2.79s\tremaining: 7.99s\n",
      "259:\tlearn: 8.8435540\ttotal: 2.8s\tremaining: 7.98s\n",
      "260:\tlearn: 8.8239802\ttotal: 2.81s\tremaining: 7.96s\n",
      "261:\tlearn: 8.7949392\ttotal: 2.82s\tremaining: 7.95s\n",
      "262:\tlearn: 8.7808472\ttotal: 2.83s\tremaining: 7.94s\n",
      "263:\tlearn: 8.7753502\ttotal: 2.84s\tremaining: 7.92s\n",
      "264:\tlearn: 8.7669429\ttotal: 2.85s\tremaining: 7.91s\n",
      "265:\tlearn: 8.7615495\ttotal: 2.86s\tremaining: 7.89s\n",
      "266:\tlearn: 8.7387189\ttotal: 2.87s\tremaining: 7.88s\n",
      "267:\tlearn: 8.7215964\ttotal: 2.88s\tremaining: 7.87s\n",
      "268:\tlearn: 8.7156166\ttotal: 2.89s\tremaining: 7.85s\n",
      "269:\tlearn: 8.7013432\ttotal: 2.9s\tremaining: 7.84s\n",
      "270:\tlearn: 8.6957623\ttotal: 2.91s\tremaining: 7.83s\n",
      "271:\tlearn: 8.6815047\ttotal: 2.92s\tremaining: 7.82s\n",
      "272:\tlearn: 8.6762033\ttotal: 2.94s\tremaining: 7.83s\n",
      "273:\tlearn: 8.6710009\ttotal: 2.95s\tremaining: 7.82s\n",
      "274:\tlearn: 8.6655490\ttotal: 2.96s\tremaining: 7.8s\n",
      "275:\tlearn: 8.6568347\ttotal: 2.97s\tremaining: 7.79s\n",
      "276:\tlearn: 8.6510873\ttotal: 2.98s\tremaining: 7.78s\n",
      "277:\tlearn: 8.6398200\ttotal: 2.99s\tremaining: 7.76s\n",
      "278:\tlearn: 8.6217944\ttotal: 3s\tremaining: 7.75s\n",
      "279:\tlearn: 8.6166809\ttotal: 3.01s\tremaining: 7.74s\n",
      "280:\tlearn: 8.6110422\ttotal: 3.02s\tremaining: 7.73s\n",
      "281:\tlearn: 8.6060436\ttotal: 3.03s\tremaining: 7.71s\n",
      "282:\tlearn: 8.5881055\ttotal: 3.04s\tremaining: 7.7s\n",
      "283:\tlearn: 8.5825802\ttotal: 3.05s\tremaining: 7.69s\n",
      "284:\tlearn: 8.5675657\ttotal: 3.06s\tremaining: 7.68s\n",
      "285:\tlearn: 8.5583548\ttotal: 3.07s\tremaining: 7.66s\n",
      "286:\tlearn: 8.5531790\ttotal: 3.08s\tremaining: 7.65s\n",
      "287:\tlearn: 8.5336922\ttotal: 3.09s\tremaining: 7.63s\n",
      "288:\tlearn: 8.5287784\ttotal: 3.1s\tremaining: 7.62s\n",
      "289:\tlearn: 8.5239176\ttotal: 3.11s\tremaining: 7.61s\n",
      "290:\tlearn: 8.5163957\ttotal: 3.12s\tremaining: 7.6s\n",
      "291:\tlearn: 8.5015045\ttotal: 3.13s\tremaining: 7.59s\n",
      "292:\tlearn: 8.4846718\ttotal: 3.14s\tremaining: 7.58s\n",
      "293:\tlearn: 8.4716748\ttotal: 3.15s\tremaining: 7.56s\n",
      "294:\tlearn: 8.4602838\ttotal: 3.16s\tremaining: 7.55s\n",
      "295:\tlearn: 8.4554500\ttotal: 3.17s\tremaining: 7.54s\n",
      "296:\tlearn: 8.4506603\ttotal: 3.18s\tremaining: 7.52s\n",
      "297:\tlearn: 8.4456836\ttotal: 3.19s\tremaining: 7.51s\n",
      "298:\tlearn: 8.4409799\ttotal: 3.2s\tremaining: 7.49s\n",
      "299:\tlearn: 8.4306549\ttotal: 3.21s\tremaining: 7.48s\n",
      "300:\tlearn: 8.4239837\ttotal: 3.21s\tremaining: 7.47s\n",
      "301:\tlearn: 8.4193473\ttotal: 3.23s\tremaining: 7.45s\n",
      "302:\tlearn: 8.3991079\ttotal: 3.23s\tremaining: 7.44s\n",
      "303:\tlearn: 8.3945094\ttotal: 3.24s\tremaining: 7.43s\n",
      "304:\tlearn: 8.3768199\ttotal: 3.25s\tremaining: 7.41s\n",
      "305:\tlearn: 8.3715601\ttotal: 3.26s\tremaining: 7.4s\n",
      "306:\tlearn: 8.3523245\ttotal: 3.27s\tremaining: 7.39s\n",
      "307:\tlearn: 8.3477778\ttotal: 3.28s\tremaining: 7.37s\n",
      "308:\tlearn: 8.3329654\ttotal: 3.29s\tremaining: 7.36s\n",
      "309:\tlearn: 8.3279030\ttotal: 3.3s\tremaining: 7.35s\n",
      "310:\tlearn: 8.3081194\ttotal: 3.31s\tremaining: 7.34s\n",
      "311:\tlearn: 8.2883459\ttotal: 3.33s\tremaining: 7.33s\n",
      "312:\tlearn: 8.2838794\ttotal: 3.33s\tremaining: 7.32s\n",
      "313:\tlearn: 8.2753232\ttotal: 3.34s\tremaining: 7.31s\n",
      "314:\tlearn: 8.2617247\ttotal: 3.35s\tremaining: 7.29s\n",
      "315:\tlearn: 8.2573117\ttotal: 3.36s\tremaining: 7.28s\n",
      "316:\tlearn: 8.2450059\ttotal: 3.37s\tremaining: 7.27s\n",
      "317:\tlearn: 8.2403774\ttotal: 3.38s\tremaining: 7.25s\n",
      "318:\tlearn: 8.2355090\ttotal: 3.39s\tremaining: 7.24s\n",
      "319:\tlearn: 8.2292564\ttotal: 3.4s\tremaining: 7.23s\n",
      "320:\tlearn: 8.2249452\ttotal: 3.41s\tremaining: 7.21s\n",
      "321:\tlearn: 8.2014918\ttotal: 3.42s\tremaining: 7.2s\n",
      "322:\tlearn: 8.1896110\ttotal: 3.43s\tremaining: 7.19s\n",
      "323:\tlearn: 8.1853550\ttotal: 3.44s\tremaining: 7.18s\n",
      "324:\tlearn: 8.1797058\ttotal: 3.45s\tremaining: 7.16s\n",
      "325:\tlearn: 8.1755064\ttotal: 3.46s\tremaining: 7.15s\n",
      "326:\tlearn: 8.1700844\ttotal: 3.47s\tremaining: 7.14s\n",
      "327:\tlearn: 8.1659340\ttotal: 3.48s\tremaining: 7.13s\n",
      "328:\tlearn: 8.1618252\ttotal: 3.49s\tremaining: 7.12s\n",
      "329:\tlearn: 8.1442579\ttotal: 3.5s\tremaining: 7.11s\n",
      "330:\tlearn: 8.1370651\ttotal: 3.52s\tremaining: 7.11s\n",
      "331:\tlearn: 8.1330022\ttotal: 3.53s\tremaining: 7.1s\n",
      "332:\tlearn: 8.1181954\ttotal: 3.54s\tremaining: 7.08s\n",
      "333:\tlearn: 8.1141504\ttotal: 3.55s\tremaining: 7.07s\n",
      "334:\tlearn: 8.1043932\ttotal: 3.56s\tremaining: 7.07s\n",
      "335:\tlearn: 8.0945226\ttotal: 3.57s\tremaining: 7.06s\n",
      "336:\tlearn: 8.0793486\ttotal: 3.58s\tremaining: 7.05s\n",
      "337:\tlearn: 8.0753524\ttotal: 3.6s\tremaining: 7.04s\n",
      "338:\tlearn: 8.0710160\ttotal: 3.61s\tremaining: 7.04s\n",
      "339:\tlearn: 8.0615537\ttotal: 3.62s\tremaining: 7.03s\n",
      "340:\tlearn: 8.0460473\ttotal: 3.63s\tremaining: 7.02s\n",
      "341:\tlearn: 8.0309776\ttotal: 3.65s\tremaining: 7.01s\n",
      "342:\tlearn: 8.0269960\ttotal: 3.66s\tremaining: 7.01s\n",
      "343:\tlearn: 8.0230796\ttotal: 3.67s\tremaining: 7s\n",
      "344:\tlearn: 8.0138879\ttotal: 3.68s\tremaining: 6.99s\n"
     ]
    },
    {
     "name": "stdout",
     "output_type": "stream",
     "text": [
      "345:\tlearn: 8.0055787\ttotal: 3.69s\tremaining: 6.99s\n",
      "346:\tlearn: 8.0003945\ttotal: 3.71s\tremaining: 6.98s\n",
      "347:\tlearn: 7.9964955\ttotal: 3.72s\tremaining: 6.97s\n",
      "348:\tlearn: 7.9872142\ttotal: 3.73s\tremaining: 6.96s\n",
      "349:\tlearn: 7.9833664\ttotal: 3.75s\tremaining: 6.96s\n",
      "350:\tlearn: 7.9699074\ttotal: 3.76s\tremaining: 6.95s\n",
      "351:\tlearn: 7.9620450\ttotal: 3.77s\tremaining: 6.94s\n",
      "352:\tlearn: 7.9550029\ttotal: 3.78s\tremaining: 6.93s\n",
      "353:\tlearn: 7.9461726\ttotal: 3.79s\tremaining: 6.92s\n",
      "354:\tlearn: 7.9368666\ttotal: 3.81s\tremaining: 6.92s\n",
      "355:\tlearn: 7.9330181\ttotal: 3.82s\tremaining: 6.91s\n",
      "356:\tlearn: 7.9292229\ttotal: 3.83s\tremaining: 6.89s\n",
      "357:\tlearn: 7.9206743\ttotal: 3.84s\tremaining: 6.88s\n",
      "358:\tlearn: 7.9040595\ttotal: 3.85s\tremaining: 6.87s\n",
      "359:\tlearn: 7.9003073\ttotal: 3.86s\tremaining: 6.86s\n",
      "360:\tlearn: 7.8859701\ttotal: 3.87s\tremaining: 6.84s\n",
      "361:\tlearn: 7.8813764\ttotal: 3.88s\tremaining: 6.83s\n",
      "362:\tlearn: 7.8704041\ttotal: 3.9s\tremaining: 6.84s\n",
      "363:\tlearn: 7.8570944\ttotal: 3.91s\tremaining: 6.83s\n",
      "364:\tlearn: 7.8444382\ttotal: 3.92s\tremaining: 6.82s\n",
      "365:\tlearn: 7.8406804\ttotal: 3.93s\tremaining: 6.81s\n",
      "366:\tlearn: 7.8353642\ttotal: 3.94s\tremaining: 6.79s\n",
      "367:\tlearn: 7.8316928\ttotal: 3.95s\tremaining: 6.78s\n",
      "368:\tlearn: 7.8111127\ttotal: 3.96s\tremaining: 6.77s\n",
      "369:\tlearn: 7.8032691\ttotal: 3.97s\tremaining: 6.76s\n",
      "370:\tlearn: 7.7983488\ttotal: 3.98s\tremaining: 6.75s\n",
      "371:\tlearn: 7.7947183\ttotal: 3.99s\tremaining: 6.74s\n",
      "372:\tlearn: 7.7911361\ttotal: 4s\tremaining: 6.73s\n",
      "373:\tlearn: 7.7782987\ttotal: 4.01s\tremaining: 6.71s\n",
      "374:\tlearn: 7.7717893\ttotal: 4.02s\tremaining: 6.7s\n",
      "375:\tlearn: 7.7639767\ttotal: 4.03s\tremaining: 6.69s\n",
      "376:\tlearn: 7.7604100\ttotal: 4.04s\tremaining: 6.68s\n",
      "377:\tlearn: 7.7541734\ttotal: 4.05s\tremaining: 6.66s\n",
      "378:\tlearn: 7.7506479\ttotal: 4.06s\tremaining: 6.65s\n",
      "379:\tlearn: 7.7379765\ttotal: 4.07s\tremaining: 6.64s\n",
      "380:\tlearn: 7.7311075\ttotal: 4.08s\tremaining: 6.63s\n",
      "381:\tlearn: 7.7276075\ttotal: 4.09s\tremaining: 6.62s\n",
      "382:\tlearn: 7.7142779\ttotal: 4.1s\tremaining: 6.61s\n",
      "383:\tlearn: 7.7037686\ttotal: 4.11s\tremaining: 6.59s\n",
      "384:\tlearn: 7.6924141\ttotal: 4.12s\tremaining: 6.58s\n",
      "385:\tlearn: 7.6789169\ttotal: 4.13s\tremaining: 6.57s\n",
      "386:\tlearn: 7.6754184\ttotal: 4.14s\tremaining: 6.56s\n",
      "387:\tlearn: 7.6697986\ttotal: 4.15s\tremaining: 6.54s\n",
      "388:\tlearn: 7.6651870\ttotal: 4.16s\tremaining: 6.53s\n",
      "389:\tlearn: 7.6617482\ttotal: 4.17s\tremaining: 6.52s\n",
      "390:\tlearn: 7.6583430\ttotal: 4.18s\tremaining: 6.51s\n",
      "391:\tlearn: 7.6524378\ttotal: 4.19s\tremaining: 6.49s\n",
      "392:\tlearn: 7.6490784\ttotal: 4.2s\tremaining: 6.48s\n",
      "393:\tlearn: 7.6297609\ttotal: 4.21s\tremaining: 6.47s\n",
      "394:\tlearn: 7.6264287\ttotal: 4.21s\tremaining: 6.46s\n",
      "395:\tlearn: 7.6118712\ttotal: 4.22s\tremaining: 6.44s\n",
      "396:\tlearn: 7.6085589\ttotal: 4.23s\tremaining: 6.43s\n",
      "397:\tlearn: 7.6011528\ttotal: 4.24s\tremaining: 6.42s\n",
      "398:\tlearn: 7.5973398\ttotal: 4.25s\tremaining: 6.41s\n",
      "399:\tlearn: 7.5865222\ttotal: 4.26s\tremaining: 6.39s\n",
      "400:\tlearn: 7.5760663\ttotal: 4.27s\tremaining: 6.38s\n",
      "401:\tlearn: 7.5727830\ttotal: 4.28s\tremaining: 6.37s\n",
      "402:\tlearn: 7.5695210\ttotal: 4.29s\tremaining: 6.36s\n",
      "403:\tlearn: 7.5663003\ttotal: 4.3s\tremaining: 6.35s\n",
      "404:\tlearn: 7.5559489\ttotal: 4.32s\tremaining: 6.34s\n",
      "405:\tlearn: 7.5472305\ttotal: 4.33s\tremaining: 6.33s\n",
      "406:\tlearn: 7.5397165\ttotal: 4.34s\tremaining: 6.32s\n",
      "407:\tlearn: 7.5365063\ttotal: 4.35s\tremaining: 6.31s\n",
      "408:\tlearn: 7.5305444\ttotal: 4.36s\tremaining: 6.3s\n",
      "409:\tlearn: 7.5273584\ttotal: 4.37s\tremaining: 6.29s\n",
      "410:\tlearn: 7.5169279\ttotal: 4.38s\tremaining: 6.28s\n",
      "411:\tlearn: 7.5084798\ttotal: 4.39s\tremaining: 6.26s\n",
      "412:\tlearn: 7.5053138\ttotal: 4.4s\tremaining: 6.25s\n",
      "413:\tlearn: 7.4966168\ttotal: 4.41s\tremaining: 6.24s\n",
      "414:\tlearn: 7.4929297\ttotal: 4.42s\tremaining: 6.23s\n",
      "415:\tlearn: 7.4897848\ttotal: 4.43s\tremaining: 6.21s\n",
      "416:\tlearn: 7.4779693\ttotal: 4.44s\tremaining: 6.2s\n",
      "417:\tlearn: 7.4748318\ttotal: 4.45s\tremaining: 6.19s\n",
      "418:\tlearn: 7.4700726\ttotal: 4.46s\tremaining: 6.18s\n",
      "419:\tlearn: 7.4669786\ttotal: 4.47s\tremaining: 6.17s\n",
      "420:\tlearn: 7.4639043\ttotal: 4.48s\tremaining: 6.16s\n",
      "421:\tlearn: 7.4608537\ttotal: 4.49s\tremaining: 6.15s\n",
      "422:\tlearn: 7.4483659\ttotal: 4.5s\tremaining: 6.14s\n",
      "423:\tlearn: 7.4376374\ttotal: 4.51s\tremaining: 6.13s\n",
      "424:\tlearn: 7.4276218\ttotal: 4.52s\tremaining: 6.11s\n",
      "425:\tlearn: 7.4240204\ttotal: 4.53s\tremaining: 6.1s\n",
      "426:\tlearn: 7.4126659\ttotal: 4.54s\tremaining: 6.09s\n",
      "427:\tlearn: 7.4096300\ttotal: 4.55s\tremaining: 6.08s\n",
      "428:\tlearn: 7.4007205\ttotal: 4.56s\tremaining: 6.07s\n",
      "429:\tlearn: 7.3937727\ttotal: 4.57s\tremaining: 6.06s\n",
      "430:\tlearn: 7.3907581\ttotal: 4.58s\tremaining: 6.05s\n",
      "431:\tlearn: 7.3836055\ttotal: 4.59s\tremaining: 6.04s\n",
      "432:\tlearn: 7.3806087\ttotal: 4.6s\tremaining: 6.03s\n",
      "433:\tlearn: 7.3638494\ttotal: 4.61s\tremaining: 6.01s\n",
      "434:\tlearn: 7.3588192\ttotal: 4.62s\tremaining: 6s\n",
      "435:\tlearn: 7.3558536\ttotal: 4.63s\tremaining: 5.99s\n",
      "436:\tlearn: 7.3498423\ttotal: 4.64s\tremaining: 5.98s\n",
      "437:\tlearn: 7.3468919\ttotal: 4.65s\tremaining: 5.97s\n",
      "438:\tlearn: 7.3439676\ttotal: 4.66s\tremaining: 5.96s\n",
      "439:\tlearn: 7.3406593\ttotal: 4.67s\tremaining: 5.95s\n",
      "440:\tlearn: 7.3338238\ttotal: 4.68s\tremaining: 5.94s\n",
      "441:\tlearn: 7.3251084\ttotal: 4.69s\tremaining: 5.92s\n",
      "442:\tlearn: 7.3129698\ttotal: 4.72s\tremaining: 5.93s\n",
      "443:\tlearn: 7.3100755\ttotal: 4.73s\tremaining: 5.92s\n",
      "444:\tlearn: 7.3072034\ttotal: 4.74s\tremaining: 5.91s\n",
      "445:\tlearn: 7.2987094\ttotal: 4.75s\tremaining: 5.9s\n",
      "446:\tlearn: 7.2941795\ttotal: 4.76s\tremaining: 5.89s\n",
      "447:\tlearn: 7.2824756\ttotal: 4.77s\tremaining: 5.88s\n",
      "448:\tlearn: 7.2744407\ttotal: 4.78s\tremaining: 5.87s\n",
      "449:\tlearn: 7.2661652\ttotal: 4.79s\tremaining: 5.85s\n",
      "450:\tlearn: 7.2628984\ttotal: 4.8s\tremaining: 5.84s\n",
      "451:\tlearn: 7.2533122\ttotal: 4.81s\tremaining: 5.83s\n",
      "452:\tlearn: 7.2504627\ttotal: 4.82s\tremaining: 5.82s\n",
      "453:\tlearn: 7.2419250\ttotal: 4.83s\tremaining: 5.8s\n",
      "454:\tlearn: 7.2343416\ttotal: 4.84s\tremaining: 5.79s\n",
      "455:\tlearn: 7.2314998\ttotal: 4.85s\tremaining: 5.79s\n",
      "456:\tlearn: 7.2286753\ttotal: 4.86s\tremaining: 5.78s\n",
      "457:\tlearn: 7.2206925\ttotal: 4.87s\tremaining: 5.76s\n",
      "458:\tlearn: 7.2162894\ttotal: 4.88s\tremaining: 5.75s\n",
      "459:\tlearn: 7.2040671\ttotal: 4.89s\tremaining: 5.74s\n",
      "460:\tlearn: 7.2012568\ttotal: 4.9s\tremaining: 5.73s\n",
      "461:\tlearn: 7.1981023\ttotal: 4.91s\tremaining: 5.72s\n",
      "462:\tlearn: 7.1878588\ttotal: 4.92s\tremaining: 5.7s\n",
      "463:\tlearn: 7.1850765\ttotal: 4.93s\tremaining: 5.69s\n",
      "464:\tlearn: 7.1804796\ttotal: 4.94s\tremaining: 5.68s\n",
      "465:\tlearn: 7.1777225\ttotal: 4.95s\tremaining: 5.67s\n",
      "466:\tlearn: 7.1728077\ttotal: 4.96s\tremaining: 5.66s\n",
      "467:\tlearn: 7.1640542\ttotal: 4.97s\tremaining: 5.64s\n",
      "468:\tlearn: 7.1609538\ttotal: 4.97s\tremaining: 5.63s\n",
      "469:\tlearn: 7.1566647\ttotal: 4.99s\tremaining: 5.62s\n",
      "470:\tlearn: 7.1539348\ttotal: 5s\tremaining: 5.61s\n",
      "471:\tlearn: 7.1381482\ttotal: 5.01s\tremaining: 5.6s\n",
      "472:\tlearn: 7.1354532\ttotal: 5.02s\tremaining: 5.59s\n",
      "473:\tlearn: 7.1287850\ttotal: 5.03s\tremaining: 5.58s\n",
      "474:\tlearn: 7.1230771\ttotal: 5.04s\tremaining: 5.57s\n",
      "475:\tlearn: 7.1204021\ttotal: 5.05s\tremaining: 5.56s\n",
      "476:\tlearn: 7.1177389\ttotal: 5.06s\tremaining: 5.55s\n",
      "477:\tlearn: 7.1151018\ttotal: 5.07s\tremaining: 5.54s\n",
      "478:\tlearn: 7.1100892\ttotal: 5.08s\tremaining: 5.52s\n",
      "479:\tlearn: 7.1024023\ttotal: 5.09s\tremaining: 5.51s\n",
      "480:\tlearn: 7.0952969\ttotal: 5.1s\tremaining: 5.5s\n",
      "481:\tlearn: 7.0829753\ttotal: 5.11s\tremaining: 5.49s\n",
      "482:\tlearn: 7.0803406\ttotal: 5.12s\tremaining: 5.48s\n",
      "483:\tlearn: 7.0771990\ttotal: 5.13s\tremaining: 5.46s\n",
      "484:\tlearn: 7.0745811\ttotal: 5.13s\tremaining: 5.45s\n",
      "485:\tlearn: 7.0719837\ttotal: 5.14s\tremaining: 5.44s\n",
      "486:\tlearn: 7.0638552\ttotal: 5.15s\tremaining: 5.43s\n",
      "487:\tlearn: 7.0529775\ttotal: 5.16s\tremaining: 5.42s\n",
      "488:\tlearn: 7.0457118\ttotal: 5.17s\tremaining: 5.41s\n",
      "489:\tlearn: 7.0395566\ttotal: 5.18s\tremaining: 5.39s\n",
      "490:\tlearn: 7.0346258\ttotal: 5.19s\tremaining: 5.38s\n",
      "491:\tlearn: 7.0236167\ttotal: 5.2s\tremaining: 5.37s\n",
      "492:\tlearn: 7.0166472\ttotal: 5.21s\tremaining: 5.36s\n",
      "493:\tlearn: 7.0091016\ttotal: 5.22s\tremaining: 5.35s\n",
      "494:\tlearn: 6.9972869\ttotal: 5.23s\tremaining: 5.34s\n",
      "495:\tlearn: 6.9933062\ttotal: 5.25s\tremaining: 5.33s\n",
      "496:\tlearn: 6.9890186\ttotal: 5.25s\tremaining: 5.32s\n",
      "497:\tlearn: 6.9864170\ttotal: 5.26s\tremaining: 5.31s\n",
      "498:\tlearn: 6.9838316\ttotal: 5.27s\tremaining: 5.29s\n",
      "499:\tlearn: 6.9809245\ttotal: 5.28s\tremaining: 5.28s\n",
      "500:\tlearn: 6.9766085\ttotal: 5.29s\tremaining: 5.27s\n",
      "501:\tlearn: 6.9696214\ttotal: 5.3s\tremaining: 5.26s\n",
      "502:\tlearn: 6.9597348\ttotal: 5.31s\tremaining: 5.25s\n",
      "503:\tlearn: 6.9571791\ttotal: 5.32s\tremaining: 5.24s\n",
      "504:\tlearn: 6.9469804\ttotal: 5.34s\tremaining: 5.23s\n",
      "505:\tlearn: 6.9441007\ttotal: 5.34s\tremaining: 5.22s\n",
      "506:\tlearn: 6.9395692\ttotal: 5.36s\tremaining: 5.21s\n",
      "507:\tlearn: 6.9370473\ttotal: 5.37s\tremaining: 5.2s\n",
      "508:\tlearn: 6.9295842\ttotal: 5.38s\tremaining: 5.18s\n",
      "509:\tlearn: 6.9270763\ttotal: 5.39s\tremaining: 5.17s\n",
      "510:\tlearn: 6.9212092\ttotal: 5.39s\tremaining: 5.16s\n",
      "511:\tlearn: 6.9099480\ttotal: 5.41s\tremaining: 5.15s\n",
      "512:\tlearn: 6.9023347\ttotal: 5.41s\tremaining: 5.14s\n",
      "513:\tlearn: 6.8974954\ttotal: 5.42s\tremaining: 5.13s\n"
     ]
    },
    {
     "name": "stdout",
     "output_type": "stream",
     "text": [
      "514:\tlearn: 6.8949918\ttotal: 5.44s\tremaining: 5.12s\n",
      "515:\tlearn: 6.8909756\ttotal: 5.45s\tremaining: 5.11s\n",
      "516:\tlearn: 6.8840365\ttotal: 5.46s\tremaining: 5.1s\n",
      "517:\tlearn: 6.8815646\ttotal: 5.47s\tremaining: 5.09s\n",
      "518:\tlearn: 6.8791193\ttotal: 5.48s\tremaining: 5.08s\n",
      "519:\tlearn: 6.8697777\ttotal: 5.49s\tremaining: 5.07s\n",
      "520:\tlearn: 6.8656027\ttotal: 5.5s\tremaining: 5.05s\n",
      "521:\tlearn: 6.8631723\ttotal: 5.51s\tremaining: 5.04s\n",
      "522:\tlearn: 6.8607644\ttotal: 5.52s\tremaining: 5.04s\n",
      "523:\tlearn: 6.8524875\ttotal: 5.53s\tremaining: 5.03s\n",
      "524:\tlearn: 6.8466661\ttotal: 5.54s\tremaining: 5.01s\n",
      "525:\tlearn: 6.8361770\ttotal: 5.55s\tremaining: 5s\n",
      "526:\tlearn: 6.8337741\ttotal: 5.56s\tremaining: 4.99s\n",
      "527:\tlearn: 6.8300572\ttotal: 5.58s\tremaining: 4.98s\n",
      "528:\tlearn: 6.8276789\ttotal: 5.59s\tremaining: 4.97s\n",
      "529:\tlearn: 6.8212291\ttotal: 5.6s\tremaining: 4.96s\n",
      "530:\tlearn: 6.8111778\ttotal: 5.61s\tremaining: 4.95s\n",
      "531:\tlearn: 6.8020977\ttotal: 5.62s\tremaining: 4.94s\n",
      "532:\tlearn: 6.7937015\ttotal: 5.63s\tremaining: 4.93s\n",
      "533:\tlearn: 6.7880224\ttotal: 5.64s\tremaining: 4.92s\n",
      "534:\tlearn: 6.7856281\ttotal: 5.65s\tremaining: 4.91s\n",
      "535:\tlearn: 6.7816142\ttotal: 5.66s\tremaining: 4.9s\n",
      "536:\tlearn: 6.7792395\ttotal: 5.67s\tremaining: 4.89s\n",
      "537:\tlearn: 6.7766511\ttotal: 5.68s\tremaining: 4.88s\n",
      "538:\tlearn: 6.7743012\ttotal: 5.69s\tremaining: 4.87s\n",
      "539:\tlearn: 6.7692347\ttotal: 5.7s\tremaining: 4.86s\n",
      "540:\tlearn: 6.7555820\ttotal: 5.71s\tremaining: 4.84s\n",
      "541:\tlearn: 6.7532483\ttotal: 5.72s\tremaining: 4.83s\n",
      "542:\tlearn: 6.7493205\ttotal: 5.73s\tremaining: 4.82s\n",
      "543:\tlearn: 6.7469992\ttotal: 5.74s\tremaining: 4.81s\n",
      "544:\tlearn: 6.7446983\ttotal: 5.75s\tremaining: 4.8s\n",
      "545:\tlearn: 6.7398516\ttotal: 5.76s\tremaining: 4.79s\n",
      "546:\tlearn: 6.7355778\ttotal: 5.77s\tremaining: 4.78s\n",
      "547:\tlearn: 6.7332940\ttotal: 5.78s\tremaining: 4.76s\n",
      "548:\tlearn: 6.7310212\ttotal: 5.79s\tremaining: 4.75s\n",
      "549:\tlearn: 6.7221594\ttotal: 5.8s\tremaining: 4.74s\n",
      "550:\tlearn: 6.7199033\ttotal: 5.8s\tremaining: 4.73s\n",
      "551:\tlearn: 6.7149190\ttotal: 5.82s\tremaining: 4.72s\n",
      "552:\tlearn: 6.7126733\ttotal: 5.83s\tremaining: 4.71s\n",
      "553:\tlearn: 6.7081761\ttotal: 5.84s\tremaining: 4.7s\n",
      "554:\tlearn: 6.7001862\ttotal: 5.85s\tremaining: 4.69s\n",
      "555:\tlearn: 6.6974166\ttotal: 5.86s\tremaining: 4.68s\n",
      "556:\tlearn: 6.6951789\ttotal: 5.87s\tremaining: 4.67s\n",
      "557:\tlearn: 6.6922928\ttotal: 5.88s\tremaining: 4.65s\n",
      "558:\tlearn: 6.6831771\ttotal: 5.88s\tremaining: 4.64s\n",
      "559:\tlearn: 6.6734186\ttotal: 5.89s\tremaining: 4.63s\n",
      "560:\tlearn: 6.6694008\ttotal: 5.9s\tremaining: 4.62s\n",
      "561:\tlearn: 6.6671855\ttotal: 5.91s\tremaining: 4.61s\n",
      "562:\tlearn: 6.6643795\ttotal: 5.92s\tremaining: 4.6s\n",
      "563:\tlearn: 6.6616400\ttotal: 5.93s\tremaining: 4.59s\n",
      "564:\tlearn: 6.6565010\ttotal: 5.94s\tremaining: 4.57s\n",
      "565:\tlearn: 6.6444315\ttotal: 5.95s\tremaining: 4.56s\n",
      "566:\tlearn: 6.6422265\ttotal: 5.96s\tremaining: 4.55s\n",
      "567:\tlearn: 6.6351753\ttotal: 5.97s\tremaining: 4.54s\n",
      "568:\tlearn: 6.6329933\ttotal: 5.98s\tremaining: 4.53s\n",
      "569:\tlearn: 6.6286414\ttotal: 5.99s\tremaining: 4.52s\n",
      "570:\tlearn: 6.6232689\ttotal: 6s\tremaining: 4.51s\n",
      "571:\tlearn: 6.6211025\ttotal: 6.01s\tremaining: 4.5s\n",
      "572:\tlearn: 6.6189473\ttotal: 6.03s\tremaining: 4.49s\n",
      "573:\tlearn: 6.6149893\ttotal: 6.04s\tremaining: 4.48s\n",
      "574:\tlearn: 6.6125860\ttotal: 6.05s\tremaining: 4.47s\n",
      "575:\tlearn: 6.6104517\ttotal: 6.05s\tremaining: 4.46s\n",
      "576:\tlearn: 6.6031897\ttotal: 6.07s\tremaining: 4.45s\n",
      "577:\tlearn: 6.5986418\ttotal: 6.08s\tremaining: 4.44s\n",
      "578:\tlearn: 6.5965183\ttotal: 6.09s\tremaining: 4.43s\n",
      "579:\tlearn: 6.5944055\ttotal: 6.1s\tremaining: 4.42s\n",
      "580:\tlearn: 6.5894914\ttotal: 6.11s\tremaining: 4.41s\n",
      "581:\tlearn: 6.5868247\ttotal: 6.12s\tremaining: 4.39s\n",
      "582:\tlearn: 6.5774115\ttotal: 6.13s\tremaining: 4.38s\n",
      "583:\tlearn: 6.5753076\ttotal: 6.14s\tremaining: 4.37s\n",
      "584:\tlearn: 6.5725266\ttotal: 6.15s\tremaining: 4.36s\n",
      "585:\tlearn: 6.5637704\ttotal: 6.16s\tremaining: 4.35s\n",
      "586:\tlearn: 6.5588587\ttotal: 6.17s\tremaining: 4.34s\n",
      "587:\tlearn: 6.5567689\ttotal: 6.17s\tremaining: 4.33s\n",
      "588:\tlearn: 6.5543977\ttotal: 6.18s\tremaining: 4.32s\n",
      "589:\tlearn: 6.5520320\ttotal: 6.19s\tremaining: 4.3s\n",
      "590:\tlearn: 6.5471337\ttotal: 6.2s\tremaining: 4.29s\n",
      "591:\tlearn: 6.5450714\ttotal: 6.22s\tremaining: 4.28s\n",
      "592:\tlearn: 6.5331814\ttotal: 6.23s\tremaining: 4.27s\n",
      "593:\tlearn: 6.5208671\ttotal: 6.24s\tremaining: 4.26s\n",
      "594:\tlearn: 6.5165069\ttotal: 6.25s\tremaining: 4.25s\n",
      "595:\tlearn: 6.5144537\ttotal: 6.25s\tremaining: 4.24s\n",
      "596:\tlearn: 6.5105811\ttotal: 6.26s\tremaining: 4.23s\n",
      "597:\tlearn: 6.5051125\ttotal: 6.27s\tremaining: 4.22s\n",
      "598:\tlearn: 6.4990325\ttotal: 6.28s\tremaining: 4.21s\n",
      "599:\tlearn: 6.4965223\ttotal: 6.29s\tremaining: 4.2s\n",
      "600:\tlearn: 6.4944986\ttotal: 6.3s\tremaining: 4.18s\n",
      "601:\tlearn: 6.4924878\ttotal: 6.31s\tremaining: 4.17s\n",
      "602:\tlearn: 6.4869355\ttotal: 6.32s\tremaining: 4.16s\n",
      "603:\tlearn: 6.4846501\ttotal: 6.33s\tremaining: 4.15s\n",
      "604:\tlearn: 6.4826556\ttotal: 6.34s\tremaining: 4.14s\n",
      "605:\tlearn: 6.4802467\ttotal: 6.35s\tremaining: 4.13s\n",
      "606:\tlearn: 6.4710848\ttotal: 6.36s\tremaining: 4.12s\n",
      "607:\tlearn: 6.4673835\ttotal: 6.37s\tremaining: 4.11s\n",
      "608:\tlearn: 6.4595665\ttotal: 6.38s\tremaining: 4.1s\n",
      "609:\tlearn: 6.4575774\ttotal: 6.39s\tremaining: 4.09s\n",
      "610:\tlearn: 6.4537034\ttotal: 6.4s\tremaining: 4.08s\n",
      "611:\tlearn: 6.4517288\ttotal: 6.42s\tremaining: 4.07s\n",
      "612:\tlearn: 6.4455119\ttotal: 6.43s\tremaining: 4.06s\n",
      "613:\tlearn: 6.4435511\ttotal: 6.44s\tremaining: 4.05s\n",
      "614:\tlearn: 6.4400993\ttotal: 6.45s\tremaining: 4.04s\n",
      "615:\tlearn: 6.4314166\ttotal: 6.46s\tremaining: 4.03s\n",
      "616:\tlearn: 6.4249851\ttotal: 6.47s\tremaining: 4.01s\n",
      "617:\tlearn: 6.4164081\ttotal: 6.48s\tremaining: 4s\n",
      "618:\tlearn: 6.4144368\ttotal: 6.49s\tremaining: 3.99s\n",
      "619:\tlearn: 6.4109757\ttotal: 6.5s\tremaining: 3.98s\n",
      "620:\tlearn: 6.4085580\ttotal: 6.51s\tremaining: 3.97s\n",
      "621:\tlearn: 6.4000739\ttotal: 6.52s\tremaining: 3.96s\n",
      "622:\tlearn: 6.3977248\ttotal: 6.53s\tremaining: 3.95s\n",
      "623:\tlearn: 6.3945321\ttotal: 6.54s\tremaining: 3.94s\n",
      "624:\tlearn: 6.3925939\ttotal: 6.55s\tremaining: 3.93s\n",
      "625:\tlearn: 6.3869441\ttotal: 6.56s\tremaining: 3.92s\n",
      "626:\tlearn: 6.3850126\ttotal: 6.57s\tremaining: 3.91s\n",
      "627:\tlearn: 6.3830998\ttotal: 6.58s\tremaining: 3.9s\n",
      "628:\tlearn: 6.3730834\ttotal: 6.59s\tremaining: 3.88s\n",
      "629:\tlearn: 6.3706679\ttotal: 6.6s\tremaining: 3.88s\n",
      "630:\tlearn: 6.3687638\ttotal: 6.61s\tremaining: 3.87s\n",
      "631:\tlearn: 6.3650512\ttotal: 6.63s\tremaining: 3.86s\n",
      "632:\tlearn: 6.3631623\ttotal: 6.64s\tremaining: 3.85s\n",
      "633:\tlearn: 6.3612854\ttotal: 6.64s\tremaining: 3.84s\n",
      "634:\tlearn: 6.3594192\ttotal: 6.66s\tremaining: 3.83s\n",
      "635:\tlearn: 6.3565044\ttotal: 6.66s\tremaining: 3.81s\n",
      "636:\tlearn: 6.3466484\ttotal: 6.67s\tremaining: 3.8s\n",
      "637:\tlearn: 6.3427108\ttotal: 6.68s\tremaining: 3.79s\n",
      "638:\tlearn: 6.3389990\ttotal: 6.69s\tremaining: 3.78s\n",
      "639:\tlearn: 6.3371404\ttotal: 6.7s\tremaining: 3.77s\n",
      "640:\tlearn: 6.3352914\ttotal: 6.72s\tremaining: 3.76s\n",
      "641:\tlearn: 6.3299233\ttotal: 6.73s\tremaining: 3.75s\n",
      "642:\tlearn: 6.3247736\ttotal: 6.74s\tremaining: 3.74s\n",
      "643:\tlearn: 6.3215931\ttotal: 6.75s\tremaining: 3.73s\n",
      "644:\tlearn: 6.3197531\ttotal: 6.75s\tremaining: 3.72s\n",
      "645:\tlearn: 6.3150574\ttotal: 6.76s\tremaining: 3.71s\n",
      "646:\tlearn: 6.3130758\ttotal: 6.77s\tremaining: 3.69s\n",
      "647:\tlearn: 6.3075884\ttotal: 6.78s\tremaining: 3.68s\n",
      "648:\tlearn: 6.3006313\ttotal: 6.79s\tremaining: 3.67s\n",
      "649:\tlearn: 6.2958048\ttotal: 6.8s\tremaining: 3.66s\n",
      "650:\tlearn: 6.2938412\ttotal: 6.82s\tremaining: 3.65s\n",
      "651:\tlearn: 6.2919020\ttotal: 6.83s\tremaining: 3.64s\n",
      "652:\tlearn: 6.2899890\ttotal: 6.84s\tremaining: 3.63s\n",
      "653:\tlearn: 6.2829223\ttotal: 6.85s\tremaining: 3.62s\n",
      "654:\tlearn: 6.2720204\ttotal: 6.86s\tremaining: 3.61s\n",
      "655:\tlearn: 6.2701385\ttotal: 6.86s\tremaining: 3.6s\n",
      "656:\tlearn: 6.2678618\ttotal: 6.87s\tremaining: 3.59s\n",
      "657:\tlearn: 6.2608265\ttotal: 6.88s\tremaining: 3.58s\n",
      "658:\tlearn: 6.2564223\ttotal: 6.89s\tremaining: 3.57s\n",
      "659:\tlearn: 6.2543892\ttotal: 6.9s\tremaining: 3.56s\n",
      "660:\tlearn: 6.2526030\ttotal: 6.91s\tremaining: 3.54s\n",
      "661:\tlearn: 6.2472242\ttotal: 6.92s\tremaining: 3.53s\n",
      "662:\tlearn: 6.2454474\ttotal: 6.93s\tremaining: 3.52s\n",
      "663:\tlearn: 6.2401489\ttotal: 6.94s\tremaining: 3.51s\n",
      "664:\tlearn: 6.2383847\ttotal: 6.95s\tremaining: 3.5s\n",
      "665:\tlearn: 6.2301875\ttotal: 6.96s\tremaining: 3.49s\n",
      "666:\tlearn: 6.2254482\ttotal: 6.97s\tremaining: 3.48s\n",
      "667:\tlearn: 6.2164122\ttotal: 6.98s\tremaining: 3.47s\n",
      "668:\tlearn: 6.2105786\ttotal: 7s\tremaining: 3.46s\n",
      "669:\tlearn: 6.2085743\ttotal: 7.01s\tremaining: 3.45s\n",
      "670:\tlearn: 6.2068150\ttotal: 7.02s\tremaining: 3.44s\n",
      "671:\tlearn: 6.2050668\ttotal: 7.03s\tremaining: 3.43s\n",
      "672:\tlearn: 6.1957036\ttotal: 7.04s\tremaining: 3.42s\n",
      "673:\tlearn: 6.1926841\ttotal: 7.04s\tremaining: 3.41s\n",
      "674:\tlearn: 6.1892130\ttotal: 7.05s\tremaining: 3.4s\n",
      "675:\tlearn: 6.1874637\ttotal: 7.06s\tremaining: 3.38s\n",
      "676:\tlearn: 6.1857318\ttotal: 7.07s\tremaining: 3.38s\n",
      "677:\tlearn: 6.1802861\ttotal: 7.08s\tremaining: 3.36s\n",
      "678:\tlearn: 6.1751832\ttotal: 7.09s\tremaining: 3.35s\n",
      "679:\tlearn: 6.1724346\ttotal: 7.1s\tremaining: 3.34s\n",
      "680:\tlearn: 6.1707078\ttotal: 7.11s\tremaining: 3.33s\n",
      "681:\tlearn: 6.1667511\ttotal: 7.12s\tremaining: 3.32s\n",
      "682:\tlearn: 6.1561887\ttotal: 7.13s\tremaining: 3.31s\n",
      "683:\tlearn: 6.1477808\ttotal: 7.14s\tremaining: 3.3s\n",
      "684:\tlearn: 6.1460606\ttotal: 7.15s\tremaining: 3.29s\n",
      "685:\tlearn: 6.1443617\ttotal: 7.16s\tremaining: 3.28s\n",
      "686:\tlearn: 6.1403953\ttotal: 7.17s\tremaining: 3.27s\n",
      "687:\tlearn: 6.1387048\ttotal: 7.18s\tremaining: 3.25s\n"
     ]
    },
    {
     "name": "stdout",
     "output_type": "stream",
     "text": [
      "688:\tlearn: 6.1278471\ttotal: 7.19s\tremaining: 3.25s\n",
      "689:\tlearn: 6.1207986\ttotal: 7.2s\tremaining: 3.23s\n",
      "690:\tlearn: 6.1181693\ttotal: 7.21s\tremaining: 3.23s\n",
      "691:\tlearn: 6.1164826\ttotal: 7.22s\tremaining: 3.21s\n",
      "692:\tlearn: 6.1105619\ttotal: 7.23s\tremaining: 3.2s\n",
      "693:\tlearn: 6.1050856\ttotal: 7.24s\tremaining: 3.19s\n",
      "694:\tlearn: 6.0995706\ttotal: 7.25s\tremaining: 3.18s\n",
      "695:\tlearn: 6.0978993\ttotal: 7.26s\tremaining: 3.17s\n",
      "696:\tlearn: 6.0942425\ttotal: 7.27s\tremaining: 3.16s\n",
      "697:\tlearn: 6.0869914\ttotal: 7.28s\tremaining: 3.15s\n",
      "698:\tlearn: 6.0853260\ttotal: 7.29s\tremaining: 3.14s\n",
      "699:\tlearn: 6.0833643\ttotal: 7.3s\tremaining: 3.13s\n",
      "700:\tlearn: 6.0817109\ttotal: 7.31s\tremaining: 3.12s\n",
      "701:\tlearn: 6.0777453\ttotal: 7.32s\tremaining: 3.11s\n",
      "702:\tlearn: 6.0751969\ttotal: 7.33s\tremaining: 3.1s\n",
      "703:\tlearn: 6.0735574\ttotal: 7.34s\tremaining: 3.08s\n",
      "704:\tlearn: 6.0717960\ttotal: 7.35s\tremaining: 3.07s\n",
      "705:\tlearn: 6.0674197\ttotal: 7.36s\tremaining: 3.06s\n",
      "706:\tlearn: 6.0656792\ttotal: 7.37s\tremaining: 3.05s\n",
      "707:\tlearn: 6.0639678\ttotal: 7.38s\tremaining: 3.04s\n",
      "708:\tlearn: 6.0620523\ttotal: 7.4s\tremaining: 3.04s\n",
      "709:\tlearn: 6.0603631\ttotal: 7.41s\tremaining: 3.02s\n",
      "710:\tlearn: 6.0540509\ttotal: 7.42s\tremaining: 3.01s\n",
      "711:\tlearn: 6.0510291\ttotal: 7.43s\tremaining: 3s\n",
      "712:\tlearn: 6.0494370\ttotal: 7.44s\tremaining: 2.99s\n",
      "713:\tlearn: 6.0442663\ttotal: 7.45s\tremaining: 2.98s\n",
      "714:\tlearn: 6.0426861\ttotal: 7.46s\tremaining: 2.97s\n",
      "715:\tlearn: 6.0386556\ttotal: 7.46s\tremaining: 2.96s\n",
      "716:\tlearn: 6.0340579\ttotal: 7.47s\tremaining: 2.95s\n",
      "717:\tlearn: 6.0280554\ttotal: 7.49s\tremaining: 2.94s\n",
      "718:\tlearn: 6.0264031\ttotal: 7.49s\tremaining: 2.93s\n",
      "719:\tlearn: 6.0248403\ttotal: 7.5s\tremaining: 2.92s\n",
      "720:\tlearn: 6.0210936\ttotal: 7.51s\tremaining: 2.91s\n",
      "721:\tlearn: 6.0186289\ttotal: 7.52s\tremaining: 2.9s\n",
      "722:\tlearn: 6.0170703\ttotal: 7.53s\tremaining: 2.88s\n",
      "723:\tlearn: 6.0104659\ttotal: 7.54s\tremaining: 2.88s\n",
      "724:\tlearn: 6.0058341\ttotal: 7.55s\tremaining: 2.86s\n",
      "725:\tlearn: 6.0042793\ttotal: 7.56s\tremaining: 2.85s\n",
      "726:\tlearn: 6.0020366\ttotal: 7.57s\tremaining: 2.84s\n",
      "727:\tlearn: 5.9928701\ttotal: 7.59s\tremaining: 2.83s\n",
      "728:\tlearn: 5.9913341\ttotal: 7.6s\tremaining: 2.82s\n",
      "729:\tlearn: 5.9898061\ttotal: 7.61s\tremaining: 2.81s\n",
      "730:\tlearn: 5.9882836\ttotal: 7.62s\tremaining: 2.8s\n",
      "731:\tlearn: 5.9867717\ttotal: 7.63s\tremaining: 2.79s\n",
      "732:\tlearn: 5.9799845\ttotal: 7.64s\tremaining: 2.78s\n",
      "733:\tlearn: 5.9727572\ttotal: 7.65s\tremaining: 2.77s\n",
      "734:\tlearn: 5.9712414\ttotal: 7.66s\tremaining: 2.76s\n",
      "735:\tlearn: 5.9654223\ttotal: 7.67s\tremaining: 2.75s\n",
      "736:\tlearn: 5.9577498\ttotal: 7.68s\tremaining: 2.74s\n",
      "737:\tlearn: 5.9539458\ttotal: 7.69s\tremaining: 2.73s\n",
      "738:\tlearn: 5.9490820\ttotal: 7.7s\tremaining: 2.72s\n",
      "739:\tlearn: 5.9475715\ttotal: 7.71s\tremaining: 2.71s\n",
      "740:\tlearn: 5.9428359\ttotal: 7.72s\tremaining: 2.7s\n",
      "741:\tlearn: 5.9404284\ttotal: 7.73s\tremaining: 2.69s\n",
      "742:\tlearn: 5.9389334\ttotal: 7.74s\tremaining: 2.67s\n",
      "743:\tlearn: 5.9305359\ttotal: 7.75s\tremaining: 2.67s\n",
      "744:\tlearn: 5.9271245\ttotal: 7.75s\tremaining: 2.65s\n",
      "745:\tlearn: 5.9247904\ttotal: 7.76s\tremaining: 2.64s\n",
      "746:\tlearn: 5.9163581\ttotal: 7.78s\tremaining: 2.63s\n",
      "747:\tlearn: 5.9086604\ttotal: 7.79s\tremaining: 2.62s\n",
      "748:\tlearn: 5.9071628\ttotal: 7.8s\tremaining: 2.61s\n",
      "749:\tlearn: 5.9056759\ttotal: 7.81s\tremaining: 2.6s\n",
      "750:\tlearn: 5.9019419\ttotal: 7.82s\tremaining: 2.59s\n",
      "751:\tlearn: 5.9004680\ttotal: 7.83s\tremaining: 2.58s\n",
      "752:\tlearn: 5.8939568\ttotal: 7.84s\tremaining: 2.57s\n",
      "753:\tlearn: 5.8886813\ttotal: 7.85s\tremaining: 2.56s\n",
      "754:\tlearn: 5.8846563\ttotal: 7.86s\tremaining: 2.55s\n",
      "755:\tlearn: 5.8831874\ttotal: 7.87s\tremaining: 2.54s\n",
      "756:\tlearn: 5.8781422\ttotal: 7.88s\tremaining: 2.53s\n",
      "757:\tlearn: 5.8734444\ttotal: 7.89s\tremaining: 2.52s\n",
      "758:\tlearn: 5.8705403\ttotal: 7.9s\tremaining: 2.51s\n",
      "759:\tlearn: 5.8690775\ttotal: 7.91s\tremaining: 2.5s\n",
      "760:\tlearn: 5.8676167\ttotal: 7.92s\tremaining: 2.49s\n",
      "761:\tlearn: 5.8653525\ttotal: 7.93s\tremaining: 2.48s\n",
      "762:\tlearn: 5.8639067\ttotal: 7.94s\tremaining: 2.47s\n",
      "763:\tlearn: 5.8563281\ttotal: 7.95s\tremaining: 2.46s\n",
      "764:\tlearn: 5.8510266\ttotal: 7.96s\tremaining: 2.44s\n",
      "765:\tlearn: 5.8493270\ttotal: 7.97s\tremaining: 2.44s\n",
      "766:\tlearn: 5.8455435\ttotal: 8.01s\tremaining: 2.43s\n",
      "767:\tlearn: 5.8441031\ttotal: 8.02s\tremaining: 2.42s\n",
      "768:\tlearn: 5.8378327\ttotal: 8.03s\tremaining: 2.41s\n",
      "769:\tlearn: 5.8341368\ttotal: 8.04s\tremaining: 2.4s\n",
      "770:\tlearn: 5.8295610\ttotal: 8.05s\tremaining: 2.39s\n",
      "771:\tlearn: 5.8281232\ttotal: 8.06s\tremaining: 2.38s\n",
      "772:\tlearn: 5.8222282\ttotal: 8.07s\tremaining: 2.37s\n",
      "773:\tlearn: 5.8183350\ttotal: 8.08s\tremaining: 2.36s\n",
      "774:\tlearn: 5.8169074\ttotal: 8.09s\tremaining: 2.35s\n",
      "775:\tlearn: 5.8093782\ttotal: 8.1s\tremaining: 2.34s\n",
      "776:\tlearn: 5.8071541\ttotal: 8.11s\tremaining: 2.33s\n",
      "777:\tlearn: 5.8032969\ttotal: 8.12s\tremaining: 2.32s\n",
      "778:\tlearn: 5.8018785\ttotal: 8.13s\tremaining: 2.31s\n",
      "779:\tlearn: 5.8001068\ttotal: 8.14s\tremaining: 2.29s\n",
      "780:\tlearn: 5.7978276\ttotal: 8.15s\tremaining: 2.28s\n",
      "781:\tlearn: 5.7907305\ttotal: 8.16s\tremaining: 2.27s\n",
      "782:\tlearn: 5.7879593\ttotal: 8.17s\tremaining: 2.26s\n",
      "783:\tlearn: 5.7865484\ttotal: 8.18s\tremaining: 2.25s\n",
      "784:\tlearn: 5.7843337\ttotal: 8.19s\tremaining: 2.24s\n",
      "785:\tlearn: 5.7828206\ttotal: 8.2s\tremaining: 2.23s\n",
      "786:\tlearn: 5.7801859\ttotal: 8.21s\tremaining: 2.22s\n",
      "787:\tlearn: 5.7780843\ttotal: 8.22s\tremaining: 2.21s\n",
      "788:\tlearn: 5.7745612\ttotal: 8.23s\tremaining: 2.2s\n",
      "789:\tlearn: 5.7724521\ttotal: 8.24s\tremaining: 2.19s\n",
      "790:\tlearn: 5.7697246\ttotal: 8.25s\tremaining: 2.18s\n",
      "791:\tlearn: 5.7626294\ttotal: 8.26s\tremaining: 2.17s\n",
      "792:\tlearn: 5.7612267\ttotal: 8.27s\tremaining: 2.16s\n",
      "793:\tlearn: 5.7553491\ttotal: 8.28s\tremaining: 2.15s\n",
      "794:\tlearn: 5.7539513\ttotal: 8.29s\tremaining: 2.14s\n",
      "795:\tlearn: 5.7496395\ttotal: 8.3s\tremaining: 2.13s\n",
      "796:\tlearn: 5.7482520\ttotal: 8.31s\tremaining: 2.12s\n",
      "797:\tlearn: 5.7468715\ttotal: 8.32s\tremaining: 2.1s\n",
      "798:\tlearn: 5.7383934\ttotal: 8.33s\tremaining: 2.09s\n",
      "799:\tlearn: 5.7284559\ttotal: 8.34s\tremaining: 2.08s\n",
      "800:\tlearn: 5.7257360\ttotal: 8.35s\tremaining: 2.07s\n",
      "801:\tlearn: 5.7243538\ttotal: 8.36s\tremaining: 2.06s\n",
      "802:\tlearn: 5.7229849\ttotal: 8.37s\tremaining: 2.05s\n",
      "803:\tlearn: 5.7193184\ttotal: 8.38s\tremaining: 2.04s\n",
      "804:\tlearn: 5.7154479\ttotal: 8.39s\tremaining: 2.03s\n",
      "805:\tlearn: 5.7140845\ttotal: 8.4s\tremaining: 2.02s\n",
      "806:\tlearn: 5.7078459\ttotal: 8.41s\tremaining: 2.01s\n",
      "807:\tlearn: 5.7064907\ttotal: 8.42s\tremaining: 2s\n",
      "808:\tlearn: 5.7048999\ttotal: 8.43s\tremaining: 1.99s\n",
      "809:\tlearn: 5.6991863\ttotal: 8.44s\tremaining: 1.98s\n",
      "810:\tlearn: 5.6978363\ttotal: 8.45s\tremaining: 1.97s\n",
      "811:\tlearn: 5.6927572\ttotal: 8.46s\tremaining: 1.96s\n",
      "812:\tlearn: 5.6882166\ttotal: 8.47s\tremaining: 1.95s\n",
      "813:\tlearn: 5.6836496\ttotal: 8.47s\tremaining: 1.94s\n",
      "814:\tlearn: 5.6822994\ttotal: 8.48s\tremaining: 1.93s\n",
      "815:\tlearn: 5.6778388\ttotal: 8.49s\tremaining: 1.92s\n",
      "816:\tlearn: 5.6725402\ttotal: 8.5s\tremaining: 1.91s\n",
      "817:\tlearn: 5.6699501\ttotal: 8.51s\tremaining: 1.89s\n",
      "818:\tlearn: 5.6677009\ttotal: 8.52s\tremaining: 1.88s\n",
      "819:\tlearn: 5.6663553\ttotal: 8.53s\tremaining: 1.87s\n",
      "820:\tlearn: 5.6621126\ttotal: 8.55s\tremaining: 1.86s\n",
      "821:\tlearn: 5.6600234\ttotal: 8.56s\tremaining: 1.85s\n",
      "822:\tlearn: 5.6535094\ttotal: 8.57s\tremaining: 1.84s\n",
      "823:\tlearn: 5.6505597\ttotal: 8.58s\tremaining: 1.83s\n",
      "824:\tlearn: 5.6451254\ttotal: 8.59s\tremaining: 1.82s\n",
      "825:\tlearn: 5.6410144\ttotal: 8.6s\tremaining: 1.81s\n",
      "826:\tlearn: 5.6396697\ttotal: 8.61s\tremaining: 1.8s\n",
      "827:\tlearn: 5.6381296\ttotal: 8.62s\tremaining: 1.79s\n",
      "828:\tlearn: 5.6355254\ttotal: 8.63s\tremaining: 1.78s\n",
      "829:\tlearn: 5.6341922\ttotal: 8.64s\tremaining: 1.77s\n",
      "830:\tlearn: 5.6271522\ttotal: 8.65s\tremaining: 1.76s\n",
      "831:\tlearn: 5.6246113\ttotal: 8.66s\tremaining: 1.75s\n",
      "832:\tlearn: 5.6232928\ttotal: 8.67s\tremaining: 1.74s\n",
      "833:\tlearn: 5.6219858\ttotal: 8.68s\tremaining: 1.73s\n",
      "834:\tlearn: 5.6185775\ttotal: 8.69s\tremaining: 1.72s\n",
      "835:\tlearn: 5.6146890\ttotal: 8.7s\tremaining: 1.71s\n",
      "836:\tlearn: 5.6097372\ttotal: 8.71s\tremaining: 1.7s\n",
      "837:\tlearn: 5.6076973\ttotal: 8.72s\tremaining: 1.69s\n",
      "838:\tlearn: 5.6039751\ttotal: 8.73s\tremaining: 1.68s\n",
      "839:\tlearn: 5.6026677\ttotal: 8.74s\tremaining: 1.67s\n",
      "840:\tlearn: 5.5998876\ttotal: 8.75s\tremaining: 1.66s\n",
      "841:\tlearn: 5.5946380\ttotal: 8.76s\tremaining: 1.64s\n",
      "842:\tlearn: 5.5933419\ttotal: 8.78s\tremaining: 1.63s\n",
      "843:\tlearn: 5.5900073\ttotal: 8.79s\tremaining: 1.62s\n",
      "844:\tlearn: 5.5887210\ttotal: 8.8s\tremaining: 1.61s\n",
      "845:\tlearn: 5.5874450\ttotal: 8.81s\tremaining: 1.6s\n",
      "846:\tlearn: 5.5853601\ttotal: 8.82s\tremaining: 1.59s\n",
      "847:\tlearn: 5.5805287\ttotal: 8.83s\tremaining: 1.58s\n",
      "848:\tlearn: 5.5792587\ttotal: 8.84s\tremaining: 1.57s\n",
      "849:\tlearn: 5.5777759\ttotal: 8.85s\tremaining: 1.56s\n",
      "850:\tlearn: 5.5760148\ttotal: 8.85s\tremaining: 1.55s\n",
      "851:\tlearn: 5.5747529\ttotal: 8.86s\tremaining: 1.54s\n",
      "852:\tlearn: 5.5722786\ttotal: 8.87s\tremaining: 1.53s\n",
      "853:\tlearn: 5.5672716\ttotal: 8.88s\tremaining: 1.52s\n",
      "854:\tlearn: 5.5660175\ttotal: 8.89s\tremaining: 1.51s\n",
      "855:\tlearn: 5.5647709\ttotal: 8.9s\tremaining: 1.5s\n",
      "856:\tlearn: 5.5628116\ttotal: 8.91s\tremaining: 1.49s\n",
      "857:\tlearn: 5.5613508\ttotal: 8.92s\tremaining: 1.48s\n",
      "858:\tlearn: 5.5569801\ttotal: 8.93s\tremaining: 1.47s\n",
      "859:\tlearn: 5.5557428\ttotal: 8.94s\tremaining: 1.46s\n"
     ]
    },
    {
     "name": "stdout",
     "output_type": "stream",
     "text": [
      "860:\tlearn: 5.5506168\ttotal: 8.95s\tremaining: 1.45s\n",
      "861:\tlearn: 5.5486300\ttotal: 8.96s\tremaining: 1.44s\n",
      "862:\tlearn: 5.5450265\ttotal: 8.97s\tremaining: 1.42s\n",
      "863:\tlearn: 5.5437939\ttotal: 8.98s\tremaining: 1.41s\n",
      "864:\tlearn: 5.5417150\ttotal: 9s\tremaining: 1.41s\n",
      "865:\tlearn: 5.5376742\ttotal: 9.01s\tremaining: 1.39s\n",
      "866:\tlearn: 5.5364467\ttotal: 9.02s\tremaining: 1.38s\n",
      "867:\tlearn: 5.5346496\ttotal: 9.03s\tremaining: 1.37s\n",
      "868:\tlearn: 5.5334246\ttotal: 9.04s\tremaining: 1.36s\n",
      "869:\tlearn: 5.5274900\ttotal: 9.05s\tremaining: 1.35s\n",
      "870:\tlearn: 5.5224660\ttotal: 9.06s\tremaining: 1.34s\n",
      "871:\tlearn: 5.5212485\ttotal: 9.07s\tremaining: 1.33s\n",
      "872:\tlearn: 5.5188721\ttotal: 9.08s\tremaining: 1.32s\n",
      "873:\tlearn: 5.5169702\ttotal: 9.09s\tremaining: 1.31s\n",
      "874:\tlearn: 5.5157604\ttotal: 9.1s\tremaining: 1.3s\n",
      "875:\tlearn: 5.5145557\ttotal: 9.11s\tremaining: 1.29s\n",
      "876:\tlearn: 5.5133564\ttotal: 9.12s\tremaining: 1.28s\n",
      "877:\tlearn: 5.5096558\ttotal: 9.13s\tremaining: 1.27s\n",
      "878:\tlearn: 5.5084617\ttotal: 9.14s\tremaining: 1.26s\n",
      "879:\tlearn: 5.5059921\ttotal: 9.15s\tremaining: 1.25s\n",
      "880:\tlearn: 5.5026355\ttotal: 9.16s\tremaining: 1.24s\n",
      "881:\tlearn: 5.5014468\ttotal: 9.17s\tremaining: 1.23s\n",
      "882:\tlearn: 5.4951136\ttotal: 9.18s\tremaining: 1.22s\n",
      "883:\tlearn: 5.4939281\ttotal: 9.19s\tremaining: 1.21s\n",
      "884:\tlearn: 5.4920767\ttotal: 9.2s\tremaining: 1.2s\n",
      "885:\tlearn: 5.4883680\ttotal: 9.21s\tremaining: 1.19s\n",
      "886:\tlearn: 5.4860847\ttotal: 9.22s\tremaining: 1.18s\n",
      "887:\tlearn: 5.4795684\ttotal: 9.23s\tremaining: 1.16s\n",
      "888:\tlearn: 5.4783870\ttotal: 9.26s\tremaining: 1.16s\n",
      "889:\tlearn: 5.4772127\ttotal: 9.27s\tremaining: 1.15s\n",
      "890:\tlearn: 5.4760418\ttotal: 9.28s\tremaining: 1.13s\n",
      "891:\tlearn: 5.4748764\ttotal: 9.28s\tremaining: 1.12s\n",
      "892:\tlearn: 5.4718903\ttotal: 9.29s\tremaining: 1.11s\n",
      "893:\tlearn: 5.4707322\ttotal: 9.3s\tremaining: 1.1s\n",
      "894:\tlearn: 5.4689550\ttotal: 9.31s\tremaining: 1.09s\n",
      "895:\tlearn: 5.4641693\ttotal: 9.32s\tremaining: 1.08s\n",
      "896:\tlearn: 5.4613110\ttotal: 9.34s\tremaining: 1.07s\n",
      "897:\tlearn: 5.4601591\ttotal: 9.35s\tremaining: 1.06s\n",
      "898:\tlearn: 5.4552670\ttotal: 9.36s\tremaining: 1.05s\n",
      "899:\tlearn: 5.4541180\ttotal: 9.37s\tremaining: 1.04s\n",
      "900:\tlearn: 5.4529725\ttotal: 9.38s\tremaining: 1.03s\n",
      "901:\tlearn: 5.4511780\ttotal: 9.38s\tremaining: 1.02s\n",
      "902:\tlearn: 5.4456204\ttotal: 9.4s\tremaining: 1.01s\n",
      "903:\tlearn: 5.4444725\ttotal: 9.41s\tremaining: 999ms\n",
      "904:\tlearn: 5.4401431\ttotal: 9.42s\tremaining: 989ms\n",
      "905:\tlearn: 5.4333039\ttotal: 9.43s\tremaining: 978ms\n",
      "906:\tlearn: 5.4293606\ttotal: 9.44s\tremaining: 968ms\n",
      "907:\tlearn: 5.4282194\ttotal: 9.45s\tremaining: 957ms\n",
      "908:\tlearn: 5.4220629\ttotal: 9.46s\tremaining: 947ms\n",
      "909:\tlearn: 5.4179901\ttotal: 9.46s\tremaining: 936ms\n",
      "910:\tlearn: 5.4163741\ttotal: 9.47s\tremaining: 926ms\n",
      "911:\tlearn: 5.4125365\ttotal: 9.48s\tremaining: 915ms\n",
      "912:\tlearn: 5.4113957\ttotal: 9.49s\tremaining: 905ms\n",
      "913:\tlearn: 5.4090114\ttotal: 9.5s\tremaining: 894ms\n",
      "914:\tlearn: 5.4078759\ttotal: 9.51s\tremaining: 884ms\n",
      "915:\tlearn: 5.4056841\ttotal: 9.52s\tremaining: 873ms\n",
      "916:\tlearn: 5.4045580\ttotal: 9.53s\tremaining: 863ms\n",
      "917:\tlearn: 5.4025877\ttotal: 9.55s\tremaining: 853ms\n",
      "918:\tlearn: 5.3975068\ttotal: 9.56s\tremaining: 842ms\n",
      "919:\tlearn: 5.3937034\ttotal: 9.57s\tremaining: 832ms\n",
      "920:\tlearn: 5.3900289\ttotal: 9.58s\tremaining: 822ms\n",
      "921:\tlearn: 5.3863105\ttotal: 9.59s\tremaining: 811ms\n",
      "922:\tlearn: 5.3851811\ttotal: 9.6s\tremaining: 801ms\n",
      "923:\tlearn: 5.3815556\ttotal: 9.61s\tremaining: 790ms\n",
      "924:\tlearn: 5.3762796\ttotal: 9.62s\tremaining: 780ms\n",
      "925:\tlearn: 5.3741217\ttotal: 9.63s\tremaining: 769ms\n",
      "926:\tlearn: 5.3679587\ttotal: 9.64s\tremaining: 759ms\n",
      "927:\tlearn: 5.3634990\ttotal: 9.65s\tremaining: 749ms\n",
      "928:\tlearn: 5.3623679\ttotal: 9.66s\tremaining: 738ms\n",
      "929:\tlearn: 5.3606017\ttotal: 9.67s\tremaining: 728ms\n",
      "930:\tlearn: 5.3594821\ttotal: 9.68s\tremaining: 717ms\n",
      "931:\tlearn: 5.3583695\ttotal: 9.69s\tremaining: 707ms\n",
      "932:\tlearn: 5.3570498\ttotal: 9.7s\tremaining: 697ms\n",
      "933:\tlearn: 5.3559422\ttotal: 9.71s\tremaining: 686ms\n",
      "934:\tlearn: 5.3537984\ttotal: 9.72s\tremaining: 676ms\n",
      "935:\tlearn: 5.3484867\ttotal: 9.73s\tremaining: 666ms\n",
      "936:\tlearn: 5.3440678\ttotal: 9.74s\tremaining: 655ms\n",
      "937:\tlearn: 5.3429617\ttotal: 9.76s\tremaining: 645ms\n",
      "938:\tlearn: 5.3377342\ttotal: 9.77s\tremaining: 634ms\n",
      "939:\tlearn: 5.3351460\ttotal: 9.77s\tremaining: 624ms\n",
      "940:\tlearn: 5.3331587\ttotal: 9.78s\tremaining: 613ms\n",
      "941:\tlearn: 5.3314809\ttotal: 9.79s\tremaining: 603ms\n",
      "942:\tlearn: 5.3280135\ttotal: 9.8s\tremaining: 593ms\n",
      "943:\tlearn: 5.3219245\ttotal: 9.81s\tremaining: 582ms\n",
      "944:\tlearn: 5.3156219\ttotal: 9.82s\tremaining: 572ms\n",
      "945:\tlearn: 5.3145227\ttotal: 9.83s\tremaining: 561ms\n",
      "946:\tlearn: 5.3132318\ttotal: 9.84s\tremaining: 551ms\n",
      "947:\tlearn: 5.3102597\ttotal: 9.85s\tremaining: 540ms\n",
      "948:\tlearn: 5.3091659\ttotal: 9.86s\tremaining: 530ms\n",
      "949:\tlearn: 5.3074466\ttotal: 9.87s\tremaining: 519ms\n",
      "950:\tlearn: 5.3063560\ttotal: 9.88s\tremaining: 509ms\n",
      "951:\tlearn: 5.3041795\ttotal: 9.89s\tremaining: 499ms\n",
      "952:\tlearn: 5.2998398\ttotal: 9.9s\tremaining: 488ms\n",
      "953:\tlearn: 5.2987527\ttotal: 9.91s\tremaining: 478ms\n",
      "954:\tlearn: 5.2976770\ttotal: 9.92s\tremaining: 467ms\n",
      "955:\tlearn: 5.2938148\ttotal: 9.93s\tremaining: 457ms\n",
      "956:\tlearn: 5.2927407\ttotal: 9.94s\tremaining: 447ms\n",
      "957:\tlearn: 5.2910528\ttotal: 9.95s\tremaining: 436ms\n",
      "958:\tlearn: 5.2899847\ttotal: 9.96s\tremaining: 426ms\n",
      "959:\tlearn: 5.2854107\ttotal: 9.97s\tremaining: 416ms\n",
      "960:\tlearn: 5.2822283\ttotal: 9.98s\tremaining: 405ms\n",
      "961:\tlearn: 5.2776375\ttotal: 9.99s\tremaining: 395ms\n",
      "962:\tlearn: 5.2765695\ttotal: 10s\tremaining: 384ms\n",
      "963:\tlearn: 5.2755096\ttotal: 10s\tremaining: 374ms\n",
      "964:\tlearn: 5.2734550\ttotal: 10s\tremaining: 364ms\n",
      "965:\tlearn: 5.2685130\ttotal: 10s\tremaining: 353ms\n",
      "966:\tlearn: 5.2668553\ttotal: 10s\tremaining: 343ms\n",
      "967:\tlearn: 5.2658002\ttotal: 10.1s\tremaining: 332ms\n",
      "968:\tlearn: 5.2647503\ttotal: 10.1s\tremaining: 322ms\n",
      "969:\tlearn: 5.2592898\ttotal: 10.1s\tremaining: 311ms\n",
      "970:\tlearn: 5.2574716\ttotal: 10.1s\tremaining: 301ms\n",
      "971:\tlearn: 5.2564131\ttotal: 10.1s\tremaining: 291ms\n",
      "972:\tlearn: 5.2515694\ttotal: 10.1s\tremaining: 280ms\n",
      "973:\tlearn: 5.2498043\ttotal: 10.1s\tremaining: 270ms\n",
      "974:\tlearn: 5.2469386\ttotal: 10.1s\tremaining: 259ms\n",
      "975:\tlearn: 5.2456872\ttotal: 10.1s\tremaining: 249ms\n",
      "976:\tlearn: 5.2446335\ttotal: 10.1s\tremaining: 239ms\n",
      "977:\tlearn: 5.2420926\ttotal: 10.2s\tremaining: 228ms\n",
      "978:\tlearn: 5.2410476\ttotal: 10.2s\tremaining: 218ms\n",
      "979:\tlearn: 5.2400115\ttotal: 10.2s\tremaining: 208ms\n",
      "980:\tlearn: 5.2385315\ttotal: 10.2s\tremaining: 197ms\n",
      "981:\tlearn: 5.2355080\ttotal: 10.2s\tremaining: 187ms\n",
      "982:\tlearn: 5.2295714\ttotal: 10.2s\tremaining: 176ms\n",
      "983:\tlearn: 5.2262487\ttotal: 10.2s\tremaining: 166ms\n",
      "984:\tlearn: 5.2230238\ttotal: 10.2s\tremaining: 156ms\n",
      "985:\tlearn: 5.2213873\ttotal: 10.2s\tremaining: 145ms\n",
      "986:\tlearn: 5.2185944\ttotal: 10.2s\tremaining: 135ms\n",
      "987:\tlearn: 5.2166861\ttotal: 10.2s\tremaining: 124ms\n",
      "988:\tlearn: 5.2156515\ttotal: 10.3s\tremaining: 114ms\n",
      "989:\tlearn: 5.2146222\ttotal: 10.3s\tremaining: 104ms\n",
      "990:\tlearn: 5.2086864\ttotal: 10.3s\tremaining: 93.3ms\n",
      "991:\tlearn: 5.2050751\ttotal: 10.3s\tremaining: 82.9ms\n",
      "992:\tlearn: 5.2019520\ttotal: 10.3s\tremaining: 72.6ms\n",
      "993:\tlearn: 5.2002154\ttotal: 10.3s\tremaining: 62.2ms\n",
      "994:\tlearn: 5.1989335\ttotal: 10.3s\tremaining: 51.8ms\n",
      "995:\tlearn: 5.1958242\ttotal: 10.3s\tremaining: 41.5ms\n",
      "996:\tlearn: 5.1930382\ttotal: 10.3s\tremaining: 31.1ms\n",
      "997:\tlearn: 5.1920068\ttotal: 10.3s\tremaining: 20.7ms\n",
      "998:\tlearn: 5.1903960\ttotal: 10.4s\tremaining: 10.4ms\n",
      "999:\tlearn: 5.1893736\ttotal: 10.4s\tremaining: 0us\n"
     ]
    },
    {
     "data": {
      "text/plain": [
       "<catboost.core.CatBoostRegressor at 0x1e9995eacd0>"
      ]
     },
     "execution_count": 64,
     "metadata": {},
     "output_type": "execute_result"
    }
   ],
   "source": [
    "catboost_model.fit(X_train,y_train)"
   ]
  },
  {
   "cell_type": "code",
   "execution_count": 65,
   "id": "838d8723",
   "metadata": {},
   "outputs": [
    {
     "data": {
      "text/plain": [
       "9.663582913990739"
      ]
     },
     "execution_count": 65,
     "metadata": {},
     "output_type": "execute_result"
    }
   ],
   "source": [
    "np.sqrt(mean_squared_error(y_test, catboost_model.predict(X_test)))"
   ]
  },
  {
   "cell_type": "code",
   "execution_count": 66,
   "id": "733934ce",
   "metadata": {},
   "outputs": [],
   "source": [
    "catboost_predictions = catboost_model.predict(df_test)"
   ]
  },
  {
   "cell_type": "code",
   "execution_count": 67,
   "id": "55f6781d",
   "metadata": {},
   "outputs": [],
   "source": [
    "first_submission = df_submission.copy()"
   ]
  },
  {
   "cell_type": "code",
   "execution_count": 68,
   "id": "a50d0570",
   "metadata": {},
   "outputs": [
    {
     "data": {
      "text/html": [
       "<div>\n",
       "<style scoped>\n",
       "    .dataframe tbody tr th:only-of-type {\n",
       "        vertical-align: middle;\n",
       "    }\n",
       "\n",
       "    .dataframe tbody tr th {\n",
       "        vertical-align: top;\n",
       "    }\n",
       "\n",
       "    .dataframe thead th {\n",
       "        text-align: right;\n",
       "    }\n",
       "</style>\n",
       "<table border=\"1\" class=\"dataframe\">\n",
       "  <thead>\n",
       "    <tr style=\"text-align: right;\">\n",
       "      <th></th>\n",
       "      <th>VehicleID</th>\n",
       "      <th>Amount (Million Naira)</th>\n",
       "    </tr>\n",
       "  </thead>\n",
       "  <tbody>\n",
       "    <tr>\n",
       "      <th>0</th>\n",
       "      <td>VHL18518</td>\n",
       "      <td>1.0</td>\n",
       "    </tr>\n",
       "    <tr>\n",
       "      <th>1</th>\n",
       "      <td>VHL17149</td>\n",
       "      <td>1.0</td>\n",
       "    </tr>\n",
       "    <tr>\n",
       "      <th>2</th>\n",
       "      <td>VHL10927</td>\n",
       "      <td>1.0</td>\n",
       "    </tr>\n",
       "    <tr>\n",
       "      <th>3</th>\n",
       "      <td>VHL12909</td>\n",
       "      <td>1.0</td>\n",
       "    </tr>\n",
       "    <tr>\n",
       "      <th>4</th>\n",
       "      <td>VHL12348</td>\n",
       "      <td>1.0</td>\n",
       "    </tr>\n",
       "  </tbody>\n",
       "</table>\n",
       "</div>"
      ],
      "text/plain": [
       "  VehicleID  Amount (Million Naira)\n",
       "0  VHL18518                     1.0\n",
       "1  VHL17149                     1.0\n",
       "2  VHL10927                     1.0\n",
       "3  VHL12909                     1.0\n",
       "4  VHL12348                     1.0"
      ]
     },
     "execution_count": 68,
     "metadata": {},
     "output_type": "execute_result"
    }
   ],
   "source": [
    "first_submission.head()"
   ]
  },
  {
   "cell_type": "code",
   "execution_count": 69,
   "id": "922fb4b8",
   "metadata": {},
   "outputs": [],
   "source": [
    "first_submission[\"Amount (Million Naira)\"] = catboost_predictions"
   ]
  },
  {
   "cell_type": "code",
   "execution_count": 70,
   "id": "6407b599",
   "metadata": {},
   "outputs": [
    {
     "data": {
      "text/html": [
       "<div>\n",
       "<style scoped>\n",
       "    .dataframe tbody tr th:only-of-type {\n",
       "        vertical-align: middle;\n",
       "    }\n",
       "\n",
       "    .dataframe tbody tr th {\n",
       "        vertical-align: top;\n",
       "    }\n",
       "\n",
       "    .dataframe thead th {\n",
       "        text-align: right;\n",
       "    }\n",
       "</style>\n",
       "<table border=\"1\" class=\"dataframe\">\n",
       "  <thead>\n",
       "    <tr style=\"text-align: right;\">\n",
       "      <th></th>\n",
       "      <th>VehicleID</th>\n",
       "      <th>Amount (Million Naira)</th>\n",
       "    </tr>\n",
       "  </thead>\n",
       "  <tbody>\n",
       "    <tr>\n",
       "      <th>0</th>\n",
       "      <td>VHL18518</td>\n",
       "      <td>7.251636</td>\n",
       "    </tr>\n",
       "    <tr>\n",
       "      <th>1</th>\n",
       "      <td>VHL17149</td>\n",
       "      <td>7.366963</td>\n",
       "    </tr>\n",
       "    <tr>\n",
       "      <th>2</th>\n",
       "      <td>VHL10927</td>\n",
       "      <td>4.115253</td>\n",
       "    </tr>\n",
       "    <tr>\n",
       "      <th>3</th>\n",
       "      <td>VHL12909</td>\n",
       "      <td>5.153555</td>\n",
       "    </tr>\n",
       "    <tr>\n",
       "      <th>4</th>\n",
       "      <td>VHL12348</td>\n",
       "      <td>9.068292</td>\n",
       "    </tr>\n",
       "  </tbody>\n",
       "</table>\n",
       "</div>"
      ],
      "text/plain": [
       "  VehicleID  Amount (Million Naira)\n",
       "0  VHL18518                7.251636\n",
       "1  VHL17149                7.366963\n",
       "2  VHL10927                4.115253\n",
       "3  VHL12909                5.153555\n",
       "4  VHL12348                9.068292"
      ]
     },
     "execution_count": 70,
     "metadata": {},
     "output_type": "execute_result"
    }
   ],
   "source": [
    "first_submission.head()"
   ]
  },
  {
   "cell_type": "code",
   "execution_count": 71,
   "id": "c9433c82",
   "metadata": {},
   "outputs": [],
   "source": [
    "first_submission.to_csv(\"catboost_predictions.csv\", index = False)"
   ]
  }
 ],
 "metadata": {
  "kernelspec": {
   "display_name": "Python 3 (ipykernel)",
   "language": "python",
   "name": "python3"
  },
  "language_info": {
   "codemirror_mode": {
    "name": "ipython",
    "version": 3
   },
   "file_extension": ".py",
   "mimetype": "text/x-python",
   "name": "python",
   "nbconvert_exporter": "python",
   "pygments_lexer": "ipython3",
   "version": "3.9.7"
  }
 },
 "nbformat": 4,
 "nbformat_minor": 5
}
